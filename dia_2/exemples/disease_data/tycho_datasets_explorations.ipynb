{
 "cells": [
  {
   "cell_type": "markdown",
   "metadata": {},
   "source": [
    "# Hands on exercise with disease data\n",
    "\n",
    "Here we are going to explore some real data set. The data comes from [Project Tycho](https://www.tycho.pitt.edu/data/), a huge database with disease data. \n",
    "\n",
    "To get started, first we need to import the libraries we are going to use:"
   ]
  },
  {
   "cell_type": "code",
   "execution_count": 1,
   "metadata": {},
   "outputs": [],
   "source": [
    "#load libraries\n",
    "import pandas as pd\n",
    "import numpy as np"
   ]
  },
  {
   "cell_type": "markdown",
   "metadata": {},
   "source": [
    "Now we are going to **load the data**. \n",
    "\n",
    "The data is presented here in form of a csv file. We could write a csv parser and so but it will be tedious, prone to bugs, and slow. Instead we are going the use `pandas.read_csv` function!"
   ]
  },
  {
   "cell_type": "code",
   "execution_count": 2,
   "metadata": {},
   "outputs": [
    {
     "name": "stderr",
     "output_type": "stream",
     "text": [
      "/home/biel/miniconda3/lib/python3.6/site-packages/IPython/core/interactiveshell.py:2785: DtypeWarning: Columns (8) have mixed types. Specify dtype option on import or set low_memory=False.\n",
      "  interactivity=interactivity, compiler=compiler, result=result)\n"
     ]
    }
   ],
   "source": [
    "# loading Dengue disease data.\n",
    "dengue = pd.read_csv('dengue_all_countries.csv', index_col=0, )"
   ]
  },
  {
   "cell_type": "markdown",
   "metadata": {},
   "source": [
    "what `pandas.read_csv` has done for us:\n",
    "+ Parse the csv.\n",
    "+ Take care of file malformations.\n",
    "+ Handle missing values.\n",
    "+ Create the `pandas.DataFrame` object with the data."
   ]
  },
  {
   "cell_type": "code",
   "execution_count": 3,
   "metadata": {
    "scrolled": true
   },
   "outputs": [
    {
     "data": {
      "text/html": [
       "<div>\n",
       "<style scoped>\n",
       "    .dataframe tbody tr th:only-of-type {\n",
       "        vertical-align: middle;\n",
       "    }\n",
       "\n",
       "    .dataframe tbody tr th {\n",
       "        vertical-align: top;\n",
       "    }\n",
       "\n",
       "    .dataframe thead th {\n",
       "        text-align: right;\n",
       "    }\n",
       "</style>\n",
       "<table border=\"1\" class=\"dataframe\">\n",
       "  <thead>\n",
       "    <tr style=\"text-align: right;\">\n",
       "      <th></th>\n",
       "      <th>text/csv</th>\n",
       "      <th>text/html</th>\n",
       "      <th>text/plain</th>\n",
       "      <th>Admin1ISO</th>\n",
       "      <th>Admin1Name</th>\n",
       "      <th>Admin2Name</th>\n",
       "      <th>AgeRange</th>\n",
       "      <th>CityName</th>\n",
       "      <th>ConditionName</th>\n",
       "      <th>ConditionSNOMED</th>\n",
       "      <th>...</th>\n",
       "      <th>Fatalities</th>\n",
       "      <th>PartOfCumulativeCountSeries</th>\n",
       "      <th>PathogenName</th>\n",
       "      <th>PathogenTaxonID</th>\n",
       "      <th>PeriodEndDate</th>\n",
       "      <th>PeriodStartDate</th>\n",
       "      <th>PlaceOfAcquisition</th>\n",
       "      <th>SourceName</th>\n",
       "      <th>Subpopulation</th>\n",
       "      <th>text/xml</th>\n",
       "    </tr>\n",
       "  </thead>\n",
       "  <tbody>\n",
       "    <tr>\n",
       "      <th>0</th>\n",
       "      <td>NaN</td>\n",
       "      <td>NaN</td>\n",
       "      <td>NaN</td>\n",
       "      <td>NaN</td>\n",
       "      <td>NaN</td>\n",
       "      <td>NaN</td>\n",
       "      <td>0-130</td>\n",
       "      <td>NaN</td>\n",
       "      <td>Dengue</td>\n",
       "      <td>38362002.0</td>\n",
       "      <td>...</td>\n",
       "      <td>0.0</td>\n",
       "      <td>0.0</td>\n",
       "      <td>Dengue virus</td>\n",
       "      <td>12637.0</td>\n",
       "      <td>1995-12-31</td>\n",
       "      <td>1995-01-01</td>\n",
       "      <td>NaN</td>\n",
       "      <td>Pan American Health Organization Website</td>\n",
       "      <td>None specified</td>\n",
       "      <td>NaN</td>\n",
       "    </tr>\n",
       "    <tr>\n",
       "      <th>1</th>\n",
       "      <td>NaN</td>\n",
       "      <td>NaN</td>\n",
       "      <td>NaN</td>\n",
       "      <td>NaN</td>\n",
       "      <td>NaN</td>\n",
       "      <td>NaN</td>\n",
       "      <td>0-130</td>\n",
       "      <td>NaN</td>\n",
       "      <td>Dengue</td>\n",
       "      <td>38362002.0</td>\n",
       "      <td>...</td>\n",
       "      <td>0.0</td>\n",
       "      <td>0.0</td>\n",
       "      <td>Dengue virus</td>\n",
       "      <td>12637.0</td>\n",
       "      <td>1996-12-31</td>\n",
       "      <td>1996-01-01</td>\n",
       "      <td>NaN</td>\n",
       "      <td>Pan American Health Organization Website</td>\n",
       "      <td>None specified</td>\n",
       "      <td>NaN</td>\n",
       "    </tr>\n",
       "    <tr>\n",
       "      <th>2</th>\n",
       "      <td>NaN</td>\n",
       "      <td>NaN</td>\n",
       "      <td>NaN</td>\n",
       "      <td>NaN</td>\n",
       "      <td>NaN</td>\n",
       "      <td>NaN</td>\n",
       "      <td>0-130</td>\n",
       "      <td>NaN</td>\n",
       "      <td>Dengue</td>\n",
       "      <td>38362002.0</td>\n",
       "      <td>...</td>\n",
       "      <td>0.0</td>\n",
       "      <td>0.0</td>\n",
       "      <td>Dengue virus</td>\n",
       "      <td>12637.0</td>\n",
       "      <td>1997-12-31</td>\n",
       "      <td>1997-01-01</td>\n",
       "      <td>NaN</td>\n",
       "      <td>Pan American Health Organization Website</td>\n",
       "      <td>None specified</td>\n",
       "      <td>NaN</td>\n",
       "    </tr>\n",
       "    <tr>\n",
       "      <th>3</th>\n",
       "      <td>NaN</td>\n",
       "      <td>NaN</td>\n",
       "      <td>NaN</td>\n",
       "      <td>NaN</td>\n",
       "      <td>NaN</td>\n",
       "      <td>NaN</td>\n",
       "      <td>0-130</td>\n",
       "      <td>NaN</td>\n",
       "      <td>Dengue</td>\n",
       "      <td>38362002.0</td>\n",
       "      <td>...</td>\n",
       "      <td>0.0</td>\n",
       "      <td>0.0</td>\n",
       "      <td>Dengue virus</td>\n",
       "      <td>12637.0</td>\n",
       "      <td>1998-12-31</td>\n",
       "      <td>1998-01-01</td>\n",
       "      <td>NaN</td>\n",
       "      <td>Pan American Health Organization Website</td>\n",
       "      <td>None specified</td>\n",
       "      <td>NaN</td>\n",
       "    </tr>\n",
       "  </tbody>\n",
       "</table>\n",
       "<p>4 rows × 24 columns</p>\n",
       "</div>"
      ],
      "text/plain": [
       "    text/csv   text/html   text/plain Admin1ISO Admin1Name Admin2Name  \\\n",
       "0        NaN         NaN          NaN       NaN        NaN        NaN   \n",
       "1        NaN         NaN          NaN       NaN        NaN        NaN   \n",
       "2        NaN         NaN          NaN       NaN        NaN        NaN   \n",
       "3        NaN         NaN          NaN       NaN        NaN        NaN   \n",
       "\n",
       "  AgeRange CityName ConditionName  ConditionSNOMED   ...     Fatalities  \\\n",
       "0    0-130      NaN        Dengue       38362002.0   ...            0.0   \n",
       "1    0-130      NaN        Dengue       38362002.0   ...            0.0   \n",
       "2    0-130      NaN        Dengue       38362002.0   ...            0.0   \n",
       "3    0-130      NaN        Dengue       38362002.0   ...            0.0   \n",
       "\n",
       "  PartOfCumulativeCountSeries  PathogenName  PathogenTaxonID  PeriodEndDate  \\\n",
       "0                         0.0  Dengue virus          12637.0     1995-12-31   \n",
       "1                         0.0  Dengue virus          12637.0     1996-12-31   \n",
       "2                         0.0  Dengue virus          12637.0     1997-12-31   \n",
       "3                         0.0  Dengue virus          12637.0     1998-12-31   \n",
       "\n",
       "   PeriodStartDate PlaceOfAcquisition  \\\n",
       "0       1995-01-01                NaN   \n",
       "1       1996-01-01                NaN   \n",
       "2       1997-01-01                NaN   \n",
       "3       1998-01-01                NaN   \n",
       "\n",
       "                                 SourceName   Subpopulation text/xml  \n",
       "0  Pan American Health Organization Website  None specified      NaN  \n",
       "1  Pan American Health Organization Website  None specified      NaN  \n",
       "2  Pan American Health Organization Website  None specified      NaN  \n",
       "3  Pan American Health Organization Website  None specified      NaN  \n",
       "\n",
       "[4 rows x 24 columns]"
      ]
     },
     "execution_count": 3,
     "metadata": {},
     "output_type": "execute_result"
    }
   ],
   "source": [
    "dengue.head(4)  # view the first 4 rows of the data frame "
   ]
  },
  {
   "cell_type": "code",
   "execution_count": 4,
   "metadata": {},
   "outputs": [
    {
     "data": {
      "text/plain": [
       "53384"
      ]
     },
     "execution_count": 4,
     "metadata": {},
     "output_type": "execute_result"
    }
   ],
   "source": [
    "len(dengue)"
   ]
  },
  {
   "cell_type": "code",
   "execution_count": 5,
   "metadata": {},
   "outputs": [
    {
     "data": {
      "text/plain": [
       "(53384, 24)"
      ]
     },
     "execution_count": 5,
     "metadata": {},
     "output_type": "execute_result"
    }
   ],
   "source": [
    "dengue.shape  # like a numpy ndarray"
   ]
  },
  {
   "cell_type": "markdown",
   "metadata": {},
   "source": [
    "## Data cleaning"
   ]
  },
  {
   "cell_type": "markdown",
   "metadata": {},
   "source": [
    "First, we should take a general look to the data structure, types and missing values. \n",
    "\n",
    "This can be easily done with `df.info()`"
   ]
  },
  {
   "cell_type": "code",
   "execution_count": 6,
   "metadata": {},
   "outputs": [
    {
     "name": "stdout",
     "output_type": "stream",
     "text": [
      "<class 'pandas.core.frame.DataFrame'>\n",
      "Int64Index: 53384 entries, 0 to 29\n",
      "Data columns (total 24 columns):\n",
      " text/csv                      0 non-null float64\n",
      " text/html                     0 non-null float64\n",
      " text/plain                    0 non-null float64\n",
      "Admin1ISO                      48747 non-null object\n",
      "Admin1Name                     48747 non-null object\n",
      "Admin2Name                     3626 non-null object\n",
      "AgeRange                       53384 non-null object\n",
      "CityName                       562 non-null object\n",
      "ConditionName                  53384 non-null object\n",
      "ConditionSNOMED                53384 non-null float64\n",
      "CountValue                     53384 non-null float64\n",
      "CountryCode                    53384 non-null object\n",
      "CountryName                    53384 non-null object\n",
      "DiagnosisCertainty             0 non-null float64\n",
      "Fatalities                     53384 non-null float64\n",
      "PartOfCumulativeCountSeries    53384 non-null float64\n",
      "PathogenName                   53384 non-null object\n",
      "PathogenTaxonID                53384 non-null float64\n",
      "PeriodEndDate                  53384 non-null object\n",
      "PeriodStartDate                53384 non-null object\n",
      "PlaceOfAcquisition             0 non-null float64\n",
      "SourceName                     53384 non-null object\n",
      "Subpopulation                  53384 non-null object\n",
      "text/xml                       0 non-null float64\n",
      "dtypes: float64(11), object(13)\n",
      "memory usage: 10.2+ MB\n"
     ]
    }
   ],
   "source": [
    "dengue.info(verbose=True)"
   ]
  },
  {
   "cell_type": "markdown",
   "metadata": {},
   "source": [
    "We can **drop the empty columns**:"
   ]
  },
  {
   "cell_type": "code",
   "execution_count": 7,
   "metadata": {},
   "outputs": [],
   "source": [
    "dengue.dropna(axis=1, how='all', inplace=True)"
   ]
  },
  {
   "cell_type": "code",
   "execution_count": 8,
   "metadata": {},
   "outputs": [
    {
     "name": "stdout",
     "output_type": "stream",
     "text": [
      "<class 'pandas.core.frame.DataFrame'>\n",
      "Int64Index: 53384 entries, 0 to 29\n",
      "Data columns (total 18 columns):\n",
      "Admin1ISO                      48747 non-null object\n",
      "Admin1Name                     48747 non-null object\n",
      "Admin2Name                     3626 non-null object\n",
      "AgeRange                       53384 non-null object\n",
      "CityName                       562 non-null object\n",
      "ConditionName                  53384 non-null object\n",
      "ConditionSNOMED                53384 non-null float64\n",
      "CountValue                     53384 non-null float64\n",
      "CountryCode                    53384 non-null object\n",
      "CountryName                    53384 non-null object\n",
      "Fatalities                     53384 non-null float64\n",
      "PartOfCumulativeCountSeries    53384 non-null float64\n",
      "PathogenName                   53384 non-null object\n",
      "PathogenTaxonID                53384 non-null float64\n",
      "PeriodEndDate                  53384 non-null object\n",
      "PeriodStartDate                53384 non-null object\n",
      "SourceName                     53384 non-null object\n",
      "Subpopulation                  53384 non-null object\n",
      "dtypes: float64(5), object(13)\n",
      "memory usage: 7.7+ MB\n"
     ]
    }
   ],
   "source": [
    "dengue.info()"
   ]
  },
  {
   "cell_type": "markdown",
   "metadata": {},
   "source": [
    "This dataset is already well structured. But there are a lot of columns. \n",
    "\n",
    "Lets get an insight of which are the useful ones"
   ]
  },
  {
   "cell_type": "code",
   "execution_count": 9,
   "metadata": {
    "scrolled": true
   },
   "outputs": [
    {
     "data": {
      "text/html": [
       "<div>\n",
       "<style scoped>\n",
       "    .dataframe tbody tr th:only-of-type {\n",
       "        vertical-align: middle;\n",
       "    }\n",
       "\n",
       "    .dataframe tbody tr th {\n",
       "        vertical-align: top;\n",
       "    }\n",
       "\n",
       "    .dataframe thead th {\n",
       "        text-align: right;\n",
       "    }\n",
       "</style>\n",
       "<table border=\"1\" class=\"dataframe\">\n",
       "  <thead>\n",
       "    <tr style=\"text-align: right;\">\n",
       "      <th></th>\n",
       "      <th>0</th>\n",
       "    </tr>\n",
       "  </thead>\n",
       "  <tbody>\n",
       "    <tr>\n",
       "      <th>Admin1ISO</th>\n",
       "      <td>NaN</td>\n",
       "    </tr>\n",
       "    <tr>\n",
       "      <th>Admin1Name</th>\n",
       "      <td>NaN</td>\n",
       "    </tr>\n",
       "    <tr>\n",
       "      <th>Admin2Name</th>\n",
       "      <td>NaN</td>\n",
       "    </tr>\n",
       "    <tr>\n",
       "      <th>AgeRange</th>\n",
       "      <td>0-130</td>\n",
       "    </tr>\n",
       "    <tr>\n",
       "      <th>CityName</th>\n",
       "      <td>NaN</td>\n",
       "    </tr>\n",
       "    <tr>\n",
       "      <th>ConditionName</th>\n",
       "      <td>Dengue</td>\n",
       "    </tr>\n",
       "    <tr>\n",
       "      <th>ConditionSNOMED</th>\n",
       "      <td>3.8362e+07</td>\n",
       "    </tr>\n",
       "    <tr>\n",
       "      <th>CountValue</th>\n",
       "      <td>56</td>\n",
       "    </tr>\n",
       "    <tr>\n",
       "      <th>CountryCode</th>\n",
       "      <td>AG</td>\n",
       "    </tr>\n",
       "    <tr>\n",
       "      <th>CountryName</th>\n",
       "      <td>ANTIGUA AND BARBUDA</td>\n",
       "    </tr>\n",
       "    <tr>\n",
       "      <th>Fatalities</th>\n",
       "      <td>0</td>\n",
       "    </tr>\n",
       "    <tr>\n",
       "      <th>PartOfCumulativeCountSeries</th>\n",
       "      <td>0</td>\n",
       "    </tr>\n",
       "    <tr>\n",
       "      <th>PathogenName</th>\n",
       "      <td>Dengue virus</td>\n",
       "    </tr>\n",
       "    <tr>\n",
       "      <th>PathogenTaxonID</th>\n",
       "      <td>12637</td>\n",
       "    </tr>\n",
       "    <tr>\n",
       "      <th>PeriodEndDate</th>\n",
       "      <td>1995-12-31</td>\n",
       "    </tr>\n",
       "    <tr>\n",
       "      <th>PeriodStartDate</th>\n",
       "      <td>1995-01-01</td>\n",
       "    </tr>\n",
       "    <tr>\n",
       "      <th>SourceName</th>\n",
       "      <td>Pan American Health Organization Website</td>\n",
       "    </tr>\n",
       "    <tr>\n",
       "      <th>Subpopulation</th>\n",
       "      <td>None specified</td>\n",
       "    </tr>\n",
       "  </tbody>\n",
       "</table>\n",
       "</div>"
      ],
      "text/plain": [
       "                                                                    0\n",
       "Admin1ISO                                                         NaN\n",
       "Admin1Name                                                        NaN\n",
       "Admin2Name                                                        NaN\n",
       "AgeRange                                                        0-130\n",
       "CityName                                                          NaN\n",
       "ConditionName                                                  Dengue\n",
       "ConditionSNOMED                                            3.8362e+07\n",
       "CountValue                                                         56\n",
       "CountryCode                                                        AG\n",
       "CountryName                                       ANTIGUA AND BARBUDA\n",
       "Fatalities                                                          0\n",
       "PartOfCumulativeCountSeries                                         0\n",
       "PathogenName                                             Dengue virus\n",
       "PathogenTaxonID                                                 12637\n",
       "PeriodEndDate                                              1995-12-31\n",
       "PeriodStartDate                                            1995-01-01\n",
       "SourceName                   Pan American Health Organization Website\n",
       "Subpopulation                                          None specified"
      ]
     },
     "execution_count": 9,
     "metadata": {},
     "output_type": "execute_result"
    }
   ],
   "source": [
    "dengue.head(1).T  # transpose the first row"
   ]
  },
  {
   "cell_type": "markdown",
   "metadata": {},
   "source": [
    "`Admin1Name`, `Admin1ISO` and `Admin2Name` are not represented in every country, but we can keep it in case we want to work with a country where those categories are present. \n",
    "\n",
    "Lets look at `AgeRange`:"
   ]
  },
  {
   "cell_type": "code",
   "execution_count": 10,
   "metadata": {},
   "outputs": [
    {
     "data": {
      "text/plain": [
       "array(['0-130'], dtype=object)"
      ]
     },
     "execution_count": 10,
     "metadata": {},
     "output_type": "execute_result"
    }
   ],
   "source": [
    "dengue['AgeRange'].unique()"
   ]
  },
  {
   "cell_type": "markdown",
   "metadata": {},
   "source": [
    "All the entries are '0-130'. This column gives us no information."
   ]
  },
  {
   "cell_type": "code",
   "execution_count": 11,
   "metadata": {},
   "outputs": [],
   "source": [
    "dengue.drop(labels='AgeRange', axis=1, inplace=True)  # drop AgeRange column"
   ]
  },
  {
   "cell_type": "markdown",
   "metadata": {},
   "source": [
    "`ConditionSNOMED` has the wrong dtype! It looks like is is a long number and `read_csv` has casted it to a float and pandas renders it in scientific representation. If we need this column we should change the column type:"
   ]
  },
  {
   "cell_type": "code",
   "execution_count": 12,
   "metadata": {},
   "outputs": [],
   "source": [
    "dengue.ConditionSNOMED = dengue.ConditionSNOMED.astype(int)"
   ]
  },
  {
   "cell_type": "markdown",
   "metadata": {},
   "source": [
    "But since we just have dengue data we can drop the disease references:"
   ]
  },
  {
   "cell_type": "code",
   "execution_count": 13,
   "metadata": {},
   "outputs": [],
   "source": [
    "labels_to_drop= ['ConditionName', 'ConditionSNOMED', 'PathogenName', 'PathogenTaxonID']\n",
    "dengue.drop(labels=labels_to_drop, axis=1, inplace=True)"
   ]
  },
  {
   "cell_type": "code",
   "execution_count": 14,
   "metadata": {},
   "outputs": [
    {
     "name": "stdout",
     "output_type": "stream",
     "text": [
      "<class 'pandas.core.frame.DataFrame'>\n",
      "Int64Index: 53384 entries, 0 to 29\n",
      "Data columns (total 13 columns):\n",
      "Admin1ISO                      48747 non-null object\n",
      "Admin1Name                     48747 non-null object\n",
      "Admin2Name                     3626 non-null object\n",
      "CityName                       562 non-null object\n",
      "CountValue                     53384 non-null float64\n",
      "CountryCode                    53384 non-null object\n",
      "CountryName                    53384 non-null object\n",
      "Fatalities                     53384 non-null float64\n",
      "PartOfCumulativeCountSeries    53384 non-null float64\n",
      "PeriodEndDate                  53384 non-null object\n",
      "PeriodStartDate                53384 non-null object\n",
      "SourceName                     53384 non-null object\n",
      "Subpopulation                  53384 non-null object\n",
      "dtypes: float64(3), object(10)\n",
      "memory usage: 5.7+ MB\n"
     ]
    }
   ],
   "source": [
    "dengue.info()"
   ]
  },
  {
   "cell_type": "code",
   "execution_count": 15,
   "metadata": {},
   "outputs": [
    {
     "data": {
      "text/plain": [
       "array(['None specified'], dtype=object)"
      ]
     },
     "execution_count": 15,
     "metadata": {},
     "output_type": "execute_result"
    }
   ],
   "source": [
    "dengue.Subpopulation.unique()"
   ]
  },
  {
   "cell_type": "code",
   "execution_count": 16,
   "metadata": {},
   "outputs": [],
   "source": [
    "dengue.drop(columns='Subpopulation', inplace=True)"
   ]
  },
  {
   "cell_type": "markdown",
   "metadata": {},
   "source": [
    "We could (and must) change the `PeriodEndDate` and `PeriodStartDate` to a proper time series type. "
   ]
  },
  {
   "cell_type": "code",
   "execution_count": 17,
   "metadata": {},
   "outputs": [
    {
     "data": {
      "text/plain": [
       "PeriodEndDate      1996-12-31\n",
       "PeriodStartDate    1996-01-01\n",
       "Name: 1, dtype: object"
      ]
     },
     "execution_count": 17,
     "metadata": {},
     "output_type": "execute_result"
    }
   ],
   "source": [
    "dengue[['PeriodEndDate', 'PeriodStartDate']].iloc[1]"
   ]
  },
  {
   "cell_type": "code",
   "execution_count": 5,
   "metadata": {},
   "outputs": [],
   "source": [
    "dengue[['PeriodEndDate', 'PeriodStartDate']] = dengue[['PeriodEndDate', 'PeriodStartDate']].apply(pd.to_datetime)"
   ]
  },
  {
   "cell_type": "code",
   "execution_count": null,
   "metadata": {},
   "outputs": [],
   "source": []
  },
  {
   "cell_type": "markdown",
   "metadata": {},
   "source": [
    "Look at the new type"
   ]
  },
  {
   "cell_type": "code",
   "execution_count": 19,
   "metadata": {},
   "outputs": [
    {
     "data": {
      "text/plain": [
       "PeriodEndDate     1996-12-31\n",
       "PeriodStartDate   1996-01-01\n",
       "Name: 1, dtype: datetime64[ns]"
      ]
     },
     "execution_count": 19,
     "metadata": {},
     "output_type": "execute_result"
    }
   ],
   "source": [
    "dengue[['PeriodEndDate', 'PeriodStartDate']].iloc[1]"
   ]
  },
  {
   "cell_type": "markdown",
   "metadata": {},
   "source": [
    "<div class='alert alert-warning'>\n",
    "You should avoid handling time series data as plain string. Always use `datetime` types.\n",
    "<br>\n",
    "[Relevant video](https://www.youtube.com/watch?v=-5wpm-gesOY)\n",
    "</div>"
   ]
  },
  {
   "cell_type": "code",
   "execution_count": 20,
   "metadata": {},
   "outputs": [],
   "source": [
    "now = pd.datetime.now()"
   ]
  },
  {
   "cell_type": "code",
   "execution_count": 6,
   "metadata": {},
   "outputs": [],
   "source": [
    "dengue[\"PeriodYear\"] = dengue[\"PeriodStartDate\"].apply(lambda x: x.year) # datetime objects have 'year' attribute"
   ]
  },
  {
   "cell_type": "code",
   "execution_count": null,
   "metadata": {},
   "outputs": [],
   "source": []
  },
  {
   "cell_type": "code",
   "execution_count": 22,
   "metadata": {},
   "outputs": [
    {
     "data": {
      "text/html": [
       "<div>\n",
       "<style scoped>\n",
       "    .dataframe tbody tr th:only-of-type {\n",
       "        vertical-align: middle;\n",
       "    }\n",
       "\n",
       "    .dataframe tbody tr th {\n",
       "        vertical-align: top;\n",
       "    }\n",
       "\n",
       "    .dataframe thead th {\n",
       "        text-align: right;\n",
       "    }\n",
       "</style>\n",
       "<table border=\"1\" class=\"dataframe\">\n",
       "  <thead>\n",
       "    <tr style=\"text-align: right;\">\n",
       "      <th></th>\n",
       "      <th>Admin1ISO</th>\n",
       "      <th>Admin1Name</th>\n",
       "      <th>Admin2Name</th>\n",
       "      <th>CityName</th>\n",
       "      <th>CountValue</th>\n",
       "      <th>CountryCode</th>\n",
       "      <th>CountryName</th>\n",
       "      <th>Fatalities</th>\n",
       "      <th>PartOfCumulativeCountSeries</th>\n",
       "      <th>PeriodEndDate</th>\n",
       "      <th>PeriodStartDate</th>\n",
       "      <th>SourceName</th>\n",
       "      <th>PeriodYear</th>\n",
       "    </tr>\n",
       "  </thead>\n",
       "  <tbody>\n",
       "    <tr>\n",
       "      <th>0</th>\n",
       "      <td>NaN</td>\n",
       "      <td>NaN</td>\n",
       "      <td>NaN</td>\n",
       "      <td>NaN</td>\n",
       "      <td>56.0</td>\n",
       "      <td>AG</td>\n",
       "      <td>ANTIGUA AND BARBUDA</td>\n",
       "      <td>0.0</td>\n",
       "      <td>0.0</td>\n",
       "      <td>1995-12-31</td>\n",
       "      <td>1995-01-01</td>\n",
       "      <td>Pan American Health Organization Website</td>\n",
       "      <td>1995</td>\n",
       "    </tr>\n",
       "    <tr>\n",
       "      <th>1</th>\n",
       "      <td>NaN</td>\n",
       "      <td>NaN</td>\n",
       "      <td>NaN</td>\n",
       "      <td>NaN</td>\n",
       "      <td>12.0</td>\n",
       "      <td>AG</td>\n",
       "      <td>ANTIGUA AND BARBUDA</td>\n",
       "      <td>0.0</td>\n",
       "      <td>0.0</td>\n",
       "      <td>1996-12-31</td>\n",
       "      <td>1996-01-01</td>\n",
       "      <td>Pan American Health Organization Website</td>\n",
       "      <td>1996</td>\n",
       "    </tr>\n",
       "    <tr>\n",
       "      <th>2</th>\n",
       "      <td>NaN</td>\n",
       "      <td>NaN</td>\n",
       "      <td>NaN</td>\n",
       "      <td>NaN</td>\n",
       "      <td>7.0</td>\n",
       "      <td>AG</td>\n",
       "      <td>ANTIGUA AND BARBUDA</td>\n",
       "      <td>0.0</td>\n",
       "      <td>0.0</td>\n",
       "      <td>1997-12-31</td>\n",
       "      <td>1997-01-01</td>\n",
       "      <td>Pan American Health Organization Website</td>\n",
       "      <td>1997</td>\n",
       "    </tr>\n",
       "    <tr>\n",
       "      <th>3</th>\n",
       "      <td>NaN</td>\n",
       "      <td>NaN</td>\n",
       "      <td>NaN</td>\n",
       "      <td>NaN</td>\n",
       "      <td>4.0</td>\n",
       "      <td>AG</td>\n",
       "      <td>ANTIGUA AND BARBUDA</td>\n",
       "      <td>0.0</td>\n",
       "      <td>0.0</td>\n",
       "      <td>1998-12-31</td>\n",
       "      <td>1998-01-01</td>\n",
       "      <td>Pan American Health Organization Website</td>\n",
       "      <td>1998</td>\n",
       "    </tr>\n",
       "    <tr>\n",
       "      <th>4</th>\n",
       "      <td>NaN</td>\n",
       "      <td>NaN</td>\n",
       "      <td>NaN</td>\n",
       "      <td>NaN</td>\n",
       "      <td>2.0</td>\n",
       "      <td>AG</td>\n",
       "      <td>ANTIGUA AND BARBUDA</td>\n",
       "      <td>0.0</td>\n",
       "      <td>0.0</td>\n",
       "      <td>1999-12-31</td>\n",
       "      <td>1999-01-01</td>\n",
       "      <td>Pan American Health Organization Website</td>\n",
       "      <td>1999</td>\n",
       "    </tr>\n",
       "  </tbody>\n",
       "</table>\n",
       "</div>"
      ],
      "text/plain": [
       "  Admin1ISO Admin1Name Admin2Name CityName  CountValue CountryCode  \\\n",
       "0       NaN        NaN        NaN      NaN        56.0          AG   \n",
       "1       NaN        NaN        NaN      NaN        12.0          AG   \n",
       "2       NaN        NaN        NaN      NaN         7.0          AG   \n",
       "3       NaN        NaN        NaN      NaN         4.0          AG   \n",
       "4       NaN        NaN        NaN      NaN         2.0          AG   \n",
       "\n",
       "           CountryName  Fatalities  PartOfCumulativeCountSeries PeriodEndDate  \\\n",
       "0  ANTIGUA AND BARBUDA         0.0                          0.0    1995-12-31   \n",
       "1  ANTIGUA AND BARBUDA         0.0                          0.0    1996-12-31   \n",
       "2  ANTIGUA AND BARBUDA         0.0                          0.0    1997-12-31   \n",
       "3  ANTIGUA AND BARBUDA         0.0                          0.0    1998-12-31   \n",
       "4  ANTIGUA AND BARBUDA         0.0                          0.0    1999-12-31   \n",
       "\n",
       "  PeriodStartDate                                SourceName  PeriodYear  \n",
       "0      1995-01-01  Pan American Health Organization Website        1995  \n",
       "1      1996-01-01  Pan American Health Organization Website        1996  \n",
       "2      1997-01-01  Pan American Health Organization Website        1997  \n",
       "3      1998-01-01  Pan American Health Organization Website        1998  \n",
       "4      1999-01-01  Pan American Health Organization Website        1999  "
      ]
     },
     "execution_count": 22,
     "metadata": {},
     "output_type": "execute_result"
    }
   ],
   "source": [
    "dengue.head()"
   ]
  },
  {
   "cell_type": "markdown",
   "metadata": {},
   "source": [
    "### Country representation in the data set"
   ]
  },
  {
   "cell_type": "markdown",
   "metadata": {},
   "source": [
    "which countries are represented in the dataset?"
   ]
  },
  {
   "cell_type": "code",
   "execution_count": 17,
   "metadata": {},
   "outputs": [],
   "source": [
    "unique_countries = dengue['CountryName'].unique()"
   ]
  },
  {
   "cell_type": "code",
   "execution_count": 18,
   "metadata": {},
   "outputs": [
    {
     "data": {
      "text/plain": [
       "array(['ANTIGUA AND BARBUDA', 'ANGUILLA', 'ARGENTINA', 'AMERICAN SAMOA',\n",
       "       'AUSTRALIA', 'ARUBA', 'BARBADOS', 'BANGLADESH', 'SAINT BARTHÉLEMY',\n",
       "       'BERMUDA', 'BRUNEI DARUSSALAM', 'BOLIVIA (PLURINATIONAL STATE OF)',\n",
       "       'BRAZIL', 'BAHAMAS', 'BHUTAN', 'BELIZE', 'CANADA', 'COOK ISLANDS',\n",
       "       'CHILE', 'CHINA', 'COLOMBIA', 'COSTA RICA', 'CUBA', 'CURAÇAO',\n",
       "       'DOMINICA', 'DOMINICAN REPUBLIC', 'ECUADOR', 'FIJI',\n",
       "       'MICRONESIA (FEDERATED STATES OF)', 'GRENADA', 'FRENCH GUIANA',\n",
       "       'GUADELOUPE', 'GUATEMALA', 'GUAM', 'GUYANA', 'HONG KONG',\n",
       "       'HONDURAS', 'HAITI', 'INDONESIA', 'INDIA', 'JAMAICA', 'JAPAN',\n",
       "       'CAMBODIA', 'KIRIBATI', 'SAINT KITTS AND NEVIS',\n",
       "       'KOREA (REPUBLIC OF)', 'CAYMAN ISLANDS',\n",
       "       \"LAO PEOPLE'S DEMOCRATIC REPUBLIC\", 'SAINT LUCIA', 'SRI LANKA',\n",
       "       'SAINT MARTIN (FRENCH PART)', 'MARSHALL ISLANDS', 'MYANMAR',\n",
       "       'MONGOLIA', 'MACAO', 'NORTHERN MARIANA ISLANDS', 'MARTINIQUE',\n",
       "       'MONTSERRAT', 'MALDIVES', 'MEXICO', 'MALAYSIA', 'NEW CALEDONIA',\n",
       "       'NICARAGUA', 'NEPAL', 'NAURU', 'NIUE', 'NEW ZEALAND', 'PANAMA',\n",
       "       'PERU', 'FRENCH POLYNESIA', 'PAPUA NEW GUINEA', 'PHILIPPINES',\n",
       "       'PITCAIRN', 'PUERTO RICO', 'PALAU', 'PARAGUAY', 'SAUDI ARABIA',\n",
       "       'SOLOMON ISLANDS', 'SINGAPORE', 'SURINAME', 'EL SALVADOR',\n",
       "       'TURKS AND CAICOS ISLANDS', 'THAILAND', 'TOKELAU', 'TIMOR-LESTE',\n",
       "       'TONGA', 'TRINIDAD AND TOBAGO', 'TUVALU',\n",
       "       'TAIWAN, PROVINCE OF CHINA', 'UNITED STATES OF AMERICA', 'URUGUAY',\n",
       "       'SAINT VINCENT AND THE GRENADINES',\n",
       "       'VENEZUELA (BOLIVARIAN REPUBLIC OF)', 'VIRGIN ISLANDS (BRITISH)',\n",
       "       'VIET NAM', 'VANUATU', 'WALLIS AND FUTUNA', 'SAMOA'], dtype=object)"
      ]
     },
     "execution_count": 18,
     "metadata": {},
     "output_type": "execute_result"
    }
   ],
   "source": [
    "unique_countries"
   ]
  },
  {
   "cell_type": "markdown",
   "metadata": {},
   "source": [
    "Does every country have cities in our data?"
   ]
  },
  {
   "cell_type": "code",
   "execution_count": 26,
   "metadata": {},
   "outputs": [],
   "source": [
    "city_country = dengue.groupby(by='CountryName')['CityName'].unique()"
   ]
  },
  {
   "cell_type": "code",
   "execution_count": 27,
   "metadata": {},
   "outputs": [
    {
     "data": {
      "text/plain": [
       "CountryName\n",
       "UNITED STATES OF AMERICA    [nan, PHILADELPHIA, NEW ORLEANS, RICHMOND, CLE...\n",
       "Name: CityName, dtype: object"
      ]
     },
     "execution_count": 27,
     "metadata": {},
     "output_type": "execute_result"
    }
   ],
   "source": [
    "city_country[city_country.apply(len) != 1]"
   ]
  },
  {
   "cell_type": "markdown",
   "metadata": {},
   "source": [
    "Only USA is agregated by cities "
   ]
  },
  {
   "cell_type": "code",
   "execution_count": 46,
   "metadata": {},
   "outputs": [
    {
     "data": {
      "text/plain": [
       "THAILAND                              5000\n",
       "CAMBODIA                              5000\n",
       "PHILIPPINES                           5000\n",
       "LAO PEOPLE'S DEMOCRATIC REPUBLIC      5000\n",
       "CHINA                                 5000\n",
       "VIET NAM                              5000\n",
       "UNITED STATES OF AMERICA              4272\n",
       "TAIWAN, PROVINCE OF CHINA             2496\n",
       "MALAYSIA                              2034\n",
       "SRI LANKA                             2011\n",
       "NICARAGUA                             1986\n",
       "EL SALVADOR                           1942\n",
       "VENEZUELA (BOLIVARIAN REPUBLIC OF)    1787\n",
       "BRAZIL                                1041\n",
       "INDONESIA                              946\n",
       "CUBA                                   422\n",
       "PANAMA                                 349\n",
       "SINGAPORE                              314\n",
       "ARGENTINA                              129\n",
       "MYANMAR                                116\n",
       "TIMOR-LESTE                            105\n",
       "PUERTO RICO                             89\n",
       "COLOMBIA                                87\n",
       "DOMINICAN REPUBLIC                      80\n",
       "JAMAICA                                 79\n",
       "HONDURAS                                74\n",
       "MEXICO                                  71\n",
       "FIJI                                    71\n",
       "ANTIGUA AND BARBUDA                     69\n",
       "SAINT KITTS AND NEVIS                   69\n",
       "                                      ... \n",
       "NEW ZEALAND                             35\n",
       "NIUE                                    34\n",
       "ARUBA                                   33\n",
       "MICRONESIA (FEDERATED STATES OF)        32\n",
       "TUVALU                                  31\n",
       "KIRIBATI                                30\n",
       "GUAM                                    30\n",
       "SAMOA                                   30\n",
       "PALAU                                   29\n",
       "HAITI                                   26\n",
       "BRUNEI DARUSSALAM                       25\n",
       "URUGUAY                                 24\n",
       "CHILE                                   22\n",
       "NAURU                                   22\n",
       "SOLOMON ISLANDS                         21\n",
       "HONG KONG                               20\n",
       "MONGOLIA                                19\n",
       "JAPAN                                   19\n",
       "MACAO                                   19\n",
       "WALLIS AND FUTUNA                       19\n",
       "TOKELAU                                 18\n",
       "CURAÇAO                                 17\n",
       "NORTHERN MARIANA ISLANDS                16\n",
       "KOREA (REPUBLIC OF)                     15\n",
       "PAPUA NEW GUINEA                        10\n",
       "SAINT MARTIN (FRENCH PART)               8\n",
       "PITCAIRN                                 8\n",
       "SAINT BARTHÉLEMY                         8\n",
       "CANADA                                   4\n",
       "SAUDI ARABIA                             2\n",
       "Name: CountryName, Length: 98, dtype: int64"
      ]
     },
     "execution_count": 46,
     "metadata": {},
     "output_type": "execute_result"
    }
   ],
   "source": [
    "dengue.CountryName.value_counts()"
   ]
  },
  {
   "cell_type": "markdown",
   "metadata": {},
   "source": [
    "### peak view of Japan subset"
   ]
  },
  {
   "cell_type": "code",
   "execution_count": 32,
   "metadata": {},
   "outputs": [
    {
     "data": {
      "text/html": [
       "<div>\n",
       "<style scoped>\n",
       "    .dataframe tbody tr th:only-of-type {\n",
       "        vertical-align: middle;\n",
       "    }\n",
       "\n",
       "    .dataframe tbody tr th {\n",
       "        vertical-align: top;\n",
       "    }\n",
       "\n",
       "    .dataframe thead th {\n",
       "        text-align: right;\n",
       "    }\n",
       "</style>\n",
       "<table border=\"1\" class=\"dataframe\">\n",
       "  <thead>\n",
       "    <tr style=\"text-align: right;\">\n",
       "      <th></th>\n",
       "      <th>Admin1ISO</th>\n",
       "      <th>Admin1Name</th>\n",
       "      <th>Admin2Name</th>\n",
       "      <th>CityName</th>\n",
       "      <th>CountValue</th>\n",
       "      <th>CountryCode</th>\n",
       "      <th>CountryName</th>\n",
       "      <th>Fatalities</th>\n",
       "      <th>PartOfCumulativeCountSeries</th>\n",
       "      <th>PeriodEndDate</th>\n",
       "      <th>PeriodStartDate</th>\n",
       "      <th>SourceName</th>\n",
       "      <th>PeriodYear</th>\n",
       "    </tr>\n",
       "  </thead>\n",
       "  <tbody>\n",
       "    <tr>\n",
       "      <th>0</th>\n",
       "      <td>NaN</td>\n",
       "      <td>NaN</td>\n",
       "      <td>NaN</td>\n",
       "      <td>NaN</td>\n",
       "      <td>9.0</td>\n",
       "      <td>JP</td>\n",
       "      <td>JAPAN</td>\n",
       "      <td>0.0</td>\n",
       "      <td>0.0</td>\n",
       "      <td>1999-12-31</td>\n",
       "      <td>1999-01-01</td>\n",
       "      <td>World Health Organization DengueNet Database</td>\n",
       "      <td>1999</td>\n",
       "    </tr>\n",
       "    <tr>\n",
       "      <th>1</th>\n",
       "      <td>NaN</td>\n",
       "      <td>NaN</td>\n",
       "      <td>NaN</td>\n",
       "      <td>NaN</td>\n",
       "      <td>18.0</td>\n",
       "      <td>JP</td>\n",
       "      <td>JAPAN</td>\n",
       "      <td>0.0</td>\n",
       "      <td>0.0</td>\n",
       "      <td>2000-12-31</td>\n",
       "      <td>2000-01-01</td>\n",
       "      <td>World Health Organization DengueNet Database</td>\n",
       "      <td>2000</td>\n",
       "    </tr>\n",
       "    <tr>\n",
       "      <th>2</th>\n",
       "      <td>NaN</td>\n",
       "      <td>NaN</td>\n",
       "      <td>NaN</td>\n",
       "      <td>NaN</td>\n",
       "      <td>7.0</td>\n",
       "      <td>JP</td>\n",
       "      <td>JAPAN</td>\n",
       "      <td>0.0</td>\n",
       "      <td>0.0</td>\n",
       "      <td>2001-12-31</td>\n",
       "      <td>2001-01-01</td>\n",
       "      <td>World Health Organization DengueNet Database</td>\n",
       "      <td>2001</td>\n",
       "    </tr>\n",
       "    <tr>\n",
       "      <th>3</th>\n",
       "      <td>NaN</td>\n",
       "      <td>NaN</td>\n",
       "      <td>NaN</td>\n",
       "      <td>NaN</td>\n",
       "      <td>18.0</td>\n",
       "      <td>JP</td>\n",
       "      <td>JAPAN</td>\n",
       "      <td>0.0</td>\n",
       "      <td>0.0</td>\n",
       "      <td>2000-12-31</td>\n",
       "      <td>2000-01-01</td>\n",
       "      <td>World Health Organization Western Pacific Regi...</td>\n",
       "      <td>2000</td>\n",
       "    </tr>\n",
       "    <tr>\n",
       "      <th>4</th>\n",
       "      <td>NaN</td>\n",
       "      <td>NaN</td>\n",
       "      <td>NaN</td>\n",
       "      <td>NaN</td>\n",
       "      <td>50.0</td>\n",
       "      <td>JP</td>\n",
       "      <td>JAPAN</td>\n",
       "      <td>0.0</td>\n",
       "      <td>0.0</td>\n",
       "      <td>2001-12-31</td>\n",
       "      <td>2001-01-01</td>\n",
       "      <td>World Health Organization Western Pacific Regi...</td>\n",
       "      <td>2001</td>\n",
       "    </tr>\n",
       "    <tr>\n",
       "      <th>5</th>\n",
       "      <td>NaN</td>\n",
       "      <td>NaN</td>\n",
       "      <td>NaN</td>\n",
       "      <td>NaN</td>\n",
       "      <td>52.0</td>\n",
       "      <td>JP</td>\n",
       "      <td>JAPAN</td>\n",
       "      <td>0.0</td>\n",
       "      <td>0.0</td>\n",
       "      <td>2002-12-31</td>\n",
       "      <td>2002-01-01</td>\n",
       "      <td>World Health Organization Western Pacific Regi...</td>\n",
       "      <td>2002</td>\n",
       "    </tr>\n",
       "    <tr>\n",
       "      <th>6</th>\n",
       "      <td>NaN</td>\n",
       "      <td>NaN</td>\n",
       "      <td>NaN</td>\n",
       "      <td>NaN</td>\n",
       "      <td>32.0</td>\n",
       "      <td>JP</td>\n",
       "      <td>JAPAN</td>\n",
       "      <td>0.0</td>\n",
       "      <td>0.0</td>\n",
       "      <td>2003-12-31</td>\n",
       "      <td>2003-01-01</td>\n",
       "      <td>World Health Organization Western Pacific Regi...</td>\n",
       "      <td>2003</td>\n",
       "    </tr>\n",
       "    <tr>\n",
       "      <th>7</th>\n",
       "      <td>NaN</td>\n",
       "      <td>NaN</td>\n",
       "      <td>NaN</td>\n",
       "      <td>NaN</td>\n",
       "      <td>49.0</td>\n",
       "      <td>JP</td>\n",
       "      <td>JAPAN</td>\n",
       "      <td>0.0</td>\n",
       "      <td>0.0</td>\n",
       "      <td>2004-12-31</td>\n",
       "      <td>2004-01-01</td>\n",
       "      <td>World Health Organization Western Pacific Regi...</td>\n",
       "      <td>2004</td>\n",
       "    </tr>\n",
       "    <tr>\n",
       "      <th>8</th>\n",
       "      <td>NaN</td>\n",
       "      <td>NaN</td>\n",
       "      <td>NaN</td>\n",
       "      <td>NaN</td>\n",
       "      <td>74.0</td>\n",
       "      <td>JP</td>\n",
       "      <td>JAPAN</td>\n",
       "      <td>0.0</td>\n",
       "      <td>0.0</td>\n",
       "      <td>2005-12-31</td>\n",
       "      <td>2005-01-01</td>\n",
       "      <td>World Health Organization Western Pacific Regi...</td>\n",
       "      <td>2005</td>\n",
       "    </tr>\n",
       "    <tr>\n",
       "      <th>9</th>\n",
       "      <td>NaN</td>\n",
       "      <td>NaN</td>\n",
       "      <td>NaN</td>\n",
       "      <td>NaN</td>\n",
       "      <td>58.0</td>\n",
       "      <td>JP</td>\n",
       "      <td>JAPAN</td>\n",
       "      <td>0.0</td>\n",
       "      <td>0.0</td>\n",
       "      <td>2006-12-31</td>\n",
       "      <td>2006-01-01</td>\n",
       "      <td>World Health Organization Western Pacific Regi...</td>\n",
       "      <td>2006</td>\n",
       "    </tr>\n",
       "    <tr>\n",
       "      <th>10</th>\n",
       "      <td>NaN</td>\n",
       "      <td>NaN</td>\n",
       "      <td>NaN</td>\n",
       "      <td>NaN</td>\n",
       "      <td>89.0</td>\n",
       "      <td>JP</td>\n",
       "      <td>JAPAN</td>\n",
       "      <td>0.0</td>\n",
       "      <td>0.0</td>\n",
       "      <td>2007-12-31</td>\n",
       "      <td>2007-01-01</td>\n",
       "      <td>World Health Organization Western Pacific Regi...</td>\n",
       "      <td>2007</td>\n",
       "    </tr>\n",
       "    <tr>\n",
       "      <th>11</th>\n",
       "      <td>NaN</td>\n",
       "      <td>NaN</td>\n",
       "      <td>NaN</td>\n",
       "      <td>NaN</td>\n",
       "      <td>101.0</td>\n",
       "      <td>JP</td>\n",
       "      <td>JAPAN</td>\n",
       "      <td>0.0</td>\n",
       "      <td>0.0</td>\n",
       "      <td>2008-12-31</td>\n",
       "      <td>2008-01-01</td>\n",
       "      <td>World Health Organization Western Pacific Regi...</td>\n",
       "      <td>2008</td>\n",
       "    </tr>\n",
       "    <tr>\n",
       "      <th>12</th>\n",
       "      <td>NaN</td>\n",
       "      <td>NaN</td>\n",
       "      <td>NaN</td>\n",
       "      <td>NaN</td>\n",
       "      <td>92.0</td>\n",
       "      <td>JP</td>\n",
       "      <td>JAPAN</td>\n",
       "      <td>0.0</td>\n",
       "      <td>0.0</td>\n",
       "      <td>2009-12-31</td>\n",
       "      <td>2009-01-01</td>\n",
       "      <td>World Health Organization Western Pacific Regi...</td>\n",
       "      <td>2009</td>\n",
       "    </tr>\n",
       "    <tr>\n",
       "      <th>13</th>\n",
       "      <td>NaN</td>\n",
       "      <td>NaN</td>\n",
       "      <td>NaN</td>\n",
       "      <td>NaN</td>\n",
       "      <td>145.0</td>\n",
       "      <td>JP</td>\n",
       "      <td>JAPAN</td>\n",
       "      <td>0.0</td>\n",
       "      <td>0.0</td>\n",
       "      <td>2010-12-31</td>\n",
       "      <td>2010-01-01</td>\n",
       "      <td>World Health Organization Western Pacific Regi...</td>\n",
       "      <td>2010</td>\n",
       "    </tr>\n",
       "    <tr>\n",
       "      <th>14</th>\n",
       "      <td>NaN</td>\n",
       "      <td>NaN</td>\n",
       "      <td>NaN</td>\n",
       "      <td>NaN</td>\n",
       "      <td>0.0</td>\n",
       "      <td>JP</td>\n",
       "      <td>JAPAN</td>\n",
       "      <td>1.0</td>\n",
       "      <td>0.0</td>\n",
       "      <td>2000-12-31</td>\n",
       "      <td>2000-01-01</td>\n",
       "      <td>World Health Organization DengueNet Database</td>\n",
       "      <td>2000</td>\n",
       "    </tr>\n",
       "    <tr>\n",
       "      <th>15</th>\n",
       "      <td>NaN</td>\n",
       "      <td>NaN</td>\n",
       "      <td>NaN</td>\n",
       "      <td>NaN</td>\n",
       "      <td>0.0</td>\n",
       "      <td>JP</td>\n",
       "      <td>JAPAN</td>\n",
       "      <td>1.0</td>\n",
       "      <td>0.0</td>\n",
       "      <td>2000-12-31</td>\n",
       "      <td>2000-01-01</td>\n",
       "      <td>World Health Organization Western Pacific Regi...</td>\n",
       "      <td>2000</td>\n",
       "    </tr>\n",
       "    <tr>\n",
       "      <th>16</th>\n",
       "      <td>NaN</td>\n",
       "      <td>NaN</td>\n",
       "      <td>NaN</td>\n",
       "      <td>NaN</td>\n",
       "      <td>0.0</td>\n",
       "      <td>JP</td>\n",
       "      <td>JAPAN</td>\n",
       "      <td>1.0</td>\n",
       "      <td>0.0</td>\n",
       "      <td>2001-12-31</td>\n",
       "      <td>2001-01-01</td>\n",
       "      <td>World Health Organization Western Pacific Regi...</td>\n",
       "      <td>2001</td>\n",
       "    </tr>\n",
       "    <tr>\n",
       "      <th>17</th>\n",
       "      <td>NaN</td>\n",
       "      <td>NaN</td>\n",
       "      <td>NaN</td>\n",
       "      <td>NaN</td>\n",
       "      <td>0.0</td>\n",
       "      <td>JP</td>\n",
       "      <td>JAPAN</td>\n",
       "      <td>1.0</td>\n",
       "      <td>0.0</td>\n",
       "      <td>2002-12-31</td>\n",
       "      <td>2002-01-01</td>\n",
       "      <td>World Health Organization Western Pacific Regi...</td>\n",
       "      <td>2002</td>\n",
       "    </tr>\n",
       "    <tr>\n",
       "      <th>18</th>\n",
       "      <td>NaN</td>\n",
       "      <td>NaN</td>\n",
       "      <td>NaN</td>\n",
       "      <td>NaN</td>\n",
       "      <td>0.0</td>\n",
       "      <td>JP</td>\n",
       "      <td>JAPAN</td>\n",
       "      <td>1.0</td>\n",
       "      <td>0.0</td>\n",
       "      <td>2003-12-31</td>\n",
       "      <td>2003-01-01</td>\n",
       "      <td>World Health Organization Western Pacific Regi...</td>\n",
       "      <td>2003</td>\n",
       "    </tr>\n",
       "  </tbody>\n",
       "</table>\n",
       "</div>"
      ],
      "text/plain": [
       "   Admin1ISO Admin1Name Admin2Name CityName  CountValue CountryCode  \\\n",
       "0        NaN        NaN        NaN      NaN         9.0          JP   \n",
       "1        NaN        NaN        NaN      NaN        18.0          JP   \n",
       "2        NaN        NaN        NaN      NaN         7.0          JP   \n",
       "3        NaN        NaN        NaN      NaN        18.0          JP   \n",
       "4        NaN        NaN        NaN      NaN        50.0          JP   \n",
       "5        NaN        NaN        NaN      NaN        52.0          JP   \n",
       "6        NaN        NaN        NaN      NaN        32.0          JP   \n",
       "7        NaN        NaN        NaN      NaN        49.0          JP   \n",
       "8        NaN        NaN        NaN      NaN        74.0          JP   \n",
       "9        NaN        NaN        NaN      NaN        58.0          JP   \n",
       "10       NaN        NaN        NaN      NaN        89.0          JP   \n",
       "11       NaN        NaN        NaN      NaN       101.0          JP   \n",
       "12       NaN        NaN        NaN      NaN        92.0          JP   \n",
       "13       NaN        NaN        NaN      NaN       145.0          JP   \n",
       "14       NaN        NaN        NaN      NaN         0.0          JP   \n",
       "15       NaN        NaN        NaN      NaN         0.0          JP   \n",
       "16       NaN        NaN        NaN      NaN         0.0          JP   \n",
       "17       NaN        NaN        NaN      NaN         0.0          JP   \n",
       "18       NaN        NaN        NaN      NaN         0.0          JP   \n",
       "\n",
       "   CountryName  Fatalities  PartOfCumulativeCountSeries PeriodEndDate  \\\n",
       "0        JAPAN         0.0                          0.0    1999-12-31   \n",
       "1        JAPAN         0.0                          0.0    2000-12-31   \n",
       "2        JAPAN         0.0                          0.0    2001-12-31   \n",
       "3        JAPAN         0.0                          0.0    2000-12-31   \n",
       "4        JAPAN         0.0                          0.0    2001-12-31   \n",
       "5        JAPAN         0.0                          0.0    2002-12-31   \n",
       "6        JAPAN         0.0                          0.0    2003-12-31   \n",
       "7        JAPAN         0.0                          0.0    2004-12-31   \n",
       "8        JAPAN         0.0                          0.0    2005-12-31   \n",
       "9        JAPAN         0.0                          0.0    2006-12-31   \n",
       "10       JAPAN         0.0                          0.0    2007-12-31   \n",
       "11       JAPAN         0.0                          0.0    2008-12-31   \n",
       "12       JAPAN         0.0                          0.0    2009-12-31   \n",
       "13       JAPAN         0.0                          0.0    2010-12-31   \n",
       "14       JAPAN         1.0                          0.0    2000-12-31   \n",
       "15       JAPAN         1.0                          0.0    2000-12-31   \n",
       "16       JAPAN         1.0                          0.0    2001-12-31   \n",
       "17       JAPAN         1.0                          0.0    2002-12-31   \n",
       "18       JAPAN         1.0                          0.0    2003-12-31   \n",
       "\n",
       "   PeriodStartDate                                         SourceName  \\\n",
       "0       1999-01-01       World Health Organization DengueNet Database   \n",
       "1       2000-01-01       World Health Organization DengueNet Database   \n",
       "2       2001-01-01       World Health Organization DengueNet Database   \n",
       "3       2000-01-01  World Health Organization Western Pacific Regi...   \n",
       "4       2001-01-01  World Health Organization Western Pacific Regi...   \n",
       "5       2002-01-01  World Health Organization Western Pacific Regi...   \n",
       "6       2003-01-01  World Health Organization Western Pacific Regi...   \n",
       "7       2004-01-01  World Health Organization Western Pacific Regi...   \n",
       "8       2005-01-01  World Health Organization Western Pacific Regi...   \n",
       "9       2006-01-01  World Health Organization Western Pacific Regi...   \n",
       "10      2007-01-01  World Health Organization Western Pacific Regi...   \n",
       "11      2008-01-01  World Health Organization Western Pacific Regi...   \n",
       "12      2009-01-01  World Health Organization Western Pacific Regi...   \n",
       "13      2010-01-01  World Health Organization Western Pacific Regi...   \n",
       "14      2000-01-01       World Health Organization DengueNet Database   \n",
       "15      2000-01-01  World Health Organization Western Pacific Regi...   \n",
       "16      2001-01-01  World Health Organization Western Pacific Regi...   \n",
       "17      2002-01-01  World Health Organization Western Pacific Regi...   \n",
       "18      2003-01-01  World Health Organization Western Pacific Regi...   \n",
       "\n",
       "    PeriodYear  \n",
       "0         1999  \n",
       "1         2000  \n",
       "2         2001  \n",
       "3         2000  \n",
       "4         2001  \n",
       "5         2002  \n",
       "6         2003  \n",
       "7         2004  \n",
       "8         2005  \n",
       "9         2006  \n",
       "10        2007  \n",
       "11        2008  \n",
       "12        2009  \n",
       "13        2010  \n",
       "14        2000  \n",
       "15        2000  \n",
       "16        2001  \n",
       "17        2002  \n",
       "18        2003  "
      ]
     },
     "execution_count": 32,
     "metadata": {},
     "output_type": "execute_result"
    }
   ],
   "source": [
    "japan = dengue[dengue.CountryName == 'JAPAN']\n",
    "japan"
   ]
  },
  {
   "cell_type": "markdown",
   "metadata": {},
   "source": [
    "How many afectets by period:"
   ]
  },
  {
   "cell_type": "code",
   "execution_count": 31,
   "metadata": {},
   "outputs": [
    {
     "data": {
      "text/plain": [
       "PeriodEndDate\n",
       "1999-12-31                     [9.0]\n",
       "2000-12-31    [18.0, 18.0, 0.0, 0.0]\n",
       "2001-12-31          [7.0, 50.0, 0.0]\n",
       "2002-12-31               [52.0, 0.0]\n",
       "2003-12-31               [32.0, 0.0]\n",
       "2004-12-31                    [49.0]\n",
       "2005-12-31                    [74.0]\n",
       "2006-12-31                    [58.0]\n",
       "2007-12-31                    [89.0]\n",
       "2008-12-31                   [101.0]\n",
       "2009-12-31                    [92.0]\n",
       "2010-12-31                   [145.0]\n",
       "Name: CountValue, dtype: object"
      ]
     },
     "execution_count": 31,
     "metadata": {},
     "output_type": "execute_result"
    }
   ],
   "source": [
    "japan.groupby(by='PeriodEndDate')['CountValue'].apply(list)"
   ]
  },
  {
   "cell_type": "markdown",
   "metadata": {},
   "source": [
    "## Now try yourself! "
   ]
  },
  {
   "cell_type": "markdown",
   "metadata": {},
   "source": [
    "# Heatmap of all countries by year"
   ]
  },
  {
   "cell_type": "code",
   "execution_count": 39,
   "metadata": {},
   "outputs": [],
   "source": [
    "import matplotlib.pyplot as plt\n",
    "import seaborn as sns\n",
    "from sklearn.preprocessing import StandardScaler\n",
    "%matplotlib inline"
   ]
  },
  {
   "cell_type": "code",
   "execution_count": 11,
   "metadata": {},
   "outputs": [],
   "source": [
    "pivoted = dengue.pivot_table(values='CountValue', columns='PeriodYear', index='CountryName', aggfunc='sum', fill_value=0)"
   ]
  },
  {
   "cell_type": "code",
   "execution_count": 12,
   "metadata": {},
   "outputs": [
    {
     "data": {
      "text/plain": [
       "<matplotlib.axes._subplots.AxesSubplot at 0x7f28d3f22438>"
      ]
     },
     "execution_count": 12,
     "metadata": {},
     "output_type": "execute_result"
    },
    {
     "data": {
      "image/png": "[encoded data removed]",
      "text/plain": [
       "<Figure size 720x1080 with 2 Axes>"
      ]
     },
     "metadata": {},
     "output_type": "display_data"
    }
   ],
   "source": [
    "plt.figure(figsize=(10,15))\n",
    "sns.heatmap(pivoted)"
   ]
  },
  {
   "cell_type": "code",
   "execution_count": 13,
   "metadata": {},
   "outputs": [
    {
     "data": {
      "text/plain": [
       "(98, 59)"
      ]
     },
     "execution_count": 13,
     "metadata": {},
     "output_type": "execute_result"
    }
   ],
   "source": [
    "pivoted.shape"
   ]
  },
  {
   "cell_type": "code",
   "execution_count": 38,
   "metadata": {},
   "outputs": [
    {
     "data": {
      "text/plain": [
       "<matplotlib.axes._subplots.AxesSubplot at 0x7f28d13bf748>"
      ]
     },
     "execution_count": 38,
     "metadata": {},
     "output_type": "execute_result"
    },
    {
     "data": {
      "image/png": "[encoded data removed]",
      "text/plain": [
       "<Figure size 720x1080 with 2 Axes>"
      ]
     },
     "metadata": {},
     "output_type": "display_data"
    }
   ],
   "source": [
    "plt.figure(figsize=(10,15))\n",
    "sns.heatmap(np.log(pivoted+1))"
   ]
  },
  {
   "cell_type": "code",
   "execution_count": 40,
   "metadata": {},
   "outputs": [],
   "source": [
    "scaler = StandardScaler()"
   ]
  },
  {
   "cell_type": "code",
   "execution_count": 42,
   "metadata": {},
   "outputs": [],
   "source": [
    "piv_scaled = scaler.fit_transform(pivoted)"
   ]
  },
  {
   "cell_type": "code",
   "execution_count": 43,
   "metadata": {},
   "outputs": [],
   "source": [
    "piv_scaled = pd.DataFrame(piv_scaled, index=pivoted.index, columns=pivoted.columns)"
   ]
  },
  {
   "cell_type": "code",
   "execution_count": 48,
   "metadata": {},
   "outputs": [
    {
     "data": {
      "text/plain": [
       "<matplotlib.axes._subplots.AxesSubplot at 0x7f28d048cbe0>"
      ]
     },
     "execution_count": 48,
     "metadata": {},
     "output_type": "execute_result"
    },
    {
     "data": {
      "image/png": "[encoded data removed]",
      "text/plain": [
       "<Figure size 720x1080 with 2 Axes>"
      ]
     },
     "metadata": {},
     "output_type": "display_data"
    }
   ],
   "source": [
    "plt.figure(figsize=(10,15))\n",
    "sns.heatmap(np.log(piv_scaled+2))"
   ]
  },
  {
   "cell_type": "code",
   "execution_count": null,
   "metadata": {},
   "outputs": [],
   "source": []
  }
 ],
 "metadata": {
  "kernelspec": {
   "display_name": "Python 3",
   "language": "python",
   "name": "python3"
  },
  "language_info": {
   "codemirror_mode": {
    "name": "ipython",
    "version": 3
   },
   "file_extension": ".py",
   "mimetype": "text/x-python",
   "name": "python",
   "nbconvert_exporter": "python",
   "pygments_lexer": "ipython3",
   "version": "3.8.3"
  }
 },
 "nbformat": 4,
 "nbformat_minor": 4
}
