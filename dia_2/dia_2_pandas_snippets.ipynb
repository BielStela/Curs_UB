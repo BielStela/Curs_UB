{
 "cells": [
  {
   "cell_type": "markdown",
   "metadata": {},
   "source": [
    "## Pandas Snippets\n",
    "\n",
    "Author: Sebastian Raschka\n",
    "\n",
    "Source: https://sebastianraschka.com/notebooks/python-notebooks.html"
   ]
  },
  {
   "cell_type": "code",
   "execution_count": null,
   "metadata": {},
   "outputs": [],
   "source": [
    "df = pd.read_csv('https://raw.githubusercontent.com/rasbt/python_reference/master/Data/some_soccer_data.csv')\n",
    "df.head()"
   ]
  },
  {
   "cell_type": "code",
   "execution_count": null,
   "metadata": {},
   "outputs": [],
   "source": [
    "# Converting column names to lowercase\n",
    "\n",
    "df.columns = [c.lower() for c in df.columns]\n",
    "\n",
    "# or\n",
    "# df.rename(columns=lambda x : x.lower())\n",
    "\n",
    "df.tail(3)"
   ]
  },
  {
   "cell_type": "code",
   "execution_count": null,
   "metadata": {},
   "outputs": [],
   "source": [
    "df = df.rename(columns={'p': 'points', \n",
    "                        'gp': 'games',\n",
    "                        'sot': 'shots_on_target',\n",
    "                        'g': 'goals',\n",
    "                        'ppg': 'points_per_game',\n",
    "                        'a': 'assists',})\n",
    "\n",
    "df.tail(3)"
   ]
  },
  {
   "cell_type": "code",
   "execution_count": null,
   "metadata": {},
   "outputs": [],
   "source": [
    "# Processing `salary` column\n",
    "\n",
    "df['salary'] = df['salary'].apply(lambda x: x.strip('$m'))\n",
    "df.tail()"
   ]
  },
  {
   "cell_type": "code",
   "execution_count": null,
   "metadata": {},
   "outputs": [],
   "source": [
    "#df['team'] = pd.Series('', index=df.index)\n",
    "\n",
    "# or\n",
    "df.insert(loc=8, column='position', value='') \n",
    "\n",
    "df.tail(3)"
   ]
  },
  {
   "cell_type": "code",
   "execution_count": null,
   "metadata": {},
   "outputs": [],
   "source": [
    "%timeit df['added1'] = pd.Series('', index=df.index)\n",
    "#%time df.insert(loc=len(df.columns), column='added2', value='') \n",
    "%timeit df['added3'] = ''\n"
   ]
  },
  {
   "cell_type": "code",
   "execution_count": null,
   "metadata": {},
   "outputs": [],
   "source": [
    "df.drop(['added1', 'added3'], axis=1, inplace=True)"
   ]
  },
  {
   "cell_type": "code",
   "execution_count": null,
   "metadata": {},
   "outputs": [],
   "source": [
    "# Processing `player` column\n",
    "\n",
    "def process_player_col(text):\n",
    "    name, rest = text.split('\\n')\n",
    "    position, team = [x.strip() for x in rest.split(' — ')]\n",
    "    return pd.Series([name, team, position])\n",
    "\n",
    "df[['player', 'team', 'position']] = df.player.apply(process_player_col)\n",
    "\n",
    "# modified after tip from reddit.com/user/hharison\n",
    "#\n",
    "# Alternative (inferior) approach:\n",
    "#\n",
    "#for idx,row in df.iterrows():\n",
    "#    name, position, team = process_player_col(row['player'])\n",
    "#    df.ix[idx, 'player'], df.ix[idx, 'position'], df.ix[idx, 'team'] = name, position, team\n",
    "    \n",
    "df.tail(3)"
   ]
  },
  {
   "cell_type": "code",
   "execution_count": null,
   "metadata": {},
   "outputs": [],
   "source": [
    "cols = ['player', 'position', 'team']\n",
    "df[cols] = df[cols].applymap(lambda x: x.lower())\n",
    "df.head()"
   ]
  },
  {
   "cell_type": "code",
   "execution_count": null,
   "metadata": {},
   "outputs": [],
   "source": [
    "import numpy as np"
   ]
  },
  {
   "cell_type": "code",
   "execution_count": null,
   "metadata": {},
   "outputs": [],
   "source": [
    "%%timeit\n",
    "\n",
    "df.append(pd.Series(\n",
    "                [np.nan]*len(df.columns), # Fill cells with NaNs\n",
    "                index=df.columns),    \n",
    "                ignore_index=True)"
   ]
  },
  {
   "cell_type": "code",
   "execution_count": null,
   "metadata": {},
   "outputs": [],
   "source": [
    "%%timeit\n",
    "nans = [np.nan] * len(df.columns)\n",
    "df.loc[-1] = nans"
   ]
  },
  {
   "cell_type": "code",
   "execution_count": null,
   "metadata": {},
   "outputs": [],
   "source": [
    "df"
   ]
  },
  {
   "cell_type": "code",
   "execution_count": null,
   "metadata": {},
   "outputs": [],
   "source": []
  }
 ],
 "metadata": {
  "kernelspec": {
   "display_name": "Python 3",
   "language": "python",
   "name": "python3"
  },
  "language_info": {
   "codemirror_mode": {
    "name": "ipython",
    "version": 3
   },
   "file_extension": ".py",
   "mimetype": "text/x-python",
   "name": "python",
   "nbconvert_exporter": "python",
   "pygments_lexer": "ipython3",
   "version": "3.8.3"
  }
 },
 "nbformat": 4,
 "nbformat_minor": 4
}
