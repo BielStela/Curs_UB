{
 "cells": [
  {
   "cell_type": "markdown",
   "metadata": {},
   "source": [
    "# Lists\n",
    "List variables, which contain multiple items of data, are widely used in Python programming and have number of \"methods\" that can be use for list manipulation.\n",
    "\n",
    "| **List method** | **Description**   |\n",
    "|------|------|\n",
    "|   *list*.append(*x*)  | Adds item x to the end of the list |\n",
    "|   *list*.extend(*L*)  | Adds all items in list *L* to the end of the list |\n",
    "|   *list*.insert(*i,x*)  | Inserts item *x* in position *i* |\n",
    "|   *list*.remove(*x*)  | Removes first item *x* from the list |\n",
    "|   *list*.pop(*i*)  | Removes item at index position *i* and returns it |\n",
    "|   *list*.index(*x*)  | Returns the index position in the list of first item *x* |\n",
    "|   *list*.count(*x*)  | Returns the number of times *x* appears in the list |\n",
    "|   *list*.sort()  | Sort all list items, in place |\n",
    "|   *list*.reverse()  | Reverse all list items, in place |\n"
   ]
  },
  {
   "cell_type": "markdown",
   "metadata": {},
   "source": [
    "+ Create two list of three elements each"
   ]
  },
  {
   "cell_type": "markdown",
   "metadata": {},
   "source": [
    "+ Print contentent and length of first list"
   ]
  },
  {
   "cell_type": "markdown",
   "metadata": {},
   "source": [
    "+ make a list with elements from 1 to 100 named `l`"
   ]
  },
  {
   "cell_type": "markdown",
   "metadata": {},
   "source": [
    "+ Select the first 10 elements"
   ]
  },
  {
   "cell_type": "markdown",
   "metadata": {},
   "source": [
    "+ Sum 3 to each element"
   ]
  },
  {
   "cell_type": "markdown",
   "metadata": {},
   "source": [
    "+ square only the elemnts that are even and name the result `l_sq`"
   ]
  },
  {
   "cell_type": "markdown",
   "metadata": {},
   "source": [
    "+ dive each element by 5 if it's divisible by 5 and name the result `l_div`"
   ]
  },
  {
   "cell_type": "markdown",
   "metadata": {},
   "source": [
    "+ Make a new list that contains the different elements of `l_sq` and `l_div`"
   ]
  }
 ],
 "metadata": {
  "kernelspec": {
   "display_name": "Python 3",
   "language": "python",
   "name": "python3"
  },
  "language_info": {
   "codemirror_mode": {
    "name": "ipython",
    "version": 3
   },
   "file_extension": ".py",
   "mimetype": "text/x-python",
   "name": "python",
   "nbconvert_exporter": "python",
   "pygments_lexer": "ipython3",
   "version": "3.8.3"
  }
 },
 "nbformat": 4,
 "nbformat_minor": 4
}
