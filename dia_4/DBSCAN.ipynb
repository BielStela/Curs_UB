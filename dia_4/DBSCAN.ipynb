{
 "cells": [
  {
   "cell_type": "markdown",
   "metadata": {},
   "source": [
    "# Finding regions of high density with **DBSCAN**\n",
    "Density-based Spatial Clustering of Applications with Noise.\n",
    "\n",
    "DBSCAN does not make assumptions about spherical clusters like k-means, nor does it partition the dataset into hierarchies that require a manual cut-off point.\n",
    "\n",
    "Assigns cluster labels to dense regions of points.\n",
    "\n",
    "### Notion of density:\n",
    "\n",
    "In DBSCAN is defined as the number of points within a specified radius $\\varepsilon$"
   ]
  },
  {
   "cell_type": "markdown",
   "metadata": {},
   "source": [
    "### How does DBSCAN labels the data?\n",
    "\n",
    "+ A point is considered a **core point** if at least a specified number ($MinSamples$) of neighboring points fall within the specified radius $\\varepsilon$.\n",
    "\n",
    "+ A **border point** is a point that has fewer neighbors than $MinSamples$ within, but lies within the radius $\\varepsilon$ of a core point.\n",
    "\n",
    "+ All other points that are neither core nor border points are considered **noise points**."
   ]
  },
  {
   "cell_type": "code",
   "execution_count": null,
   "metadata": {},
   "outputs": [],
   "source": []
  }
 ],
 "metadata": {
  "kernelspec": {
   "display_name": "Python [default]",
   "language": "python",
   "name": "python3"
  },
  "language_info": {
   "codemirror_mode": {
    "name": "ipython",
    "version": 3
   },
   "file_extension": ".py",
   "mimetype": "text/x-python",
   "name": "python",
   "nbconvert_exporter": "python",
   "pygments_lexer": "ipython3",
   "version": "3.6.5"
  }
 },
 "nbformat": 4,
 "nbformat_minor": 2
}
