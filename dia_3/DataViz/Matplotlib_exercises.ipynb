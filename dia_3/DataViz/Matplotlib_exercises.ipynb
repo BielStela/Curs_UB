{
 "cells": [
  {
   "cell_type": "markdown",
   "metadata": {},
   "source": [
    "## Plot the line defined by range(10)"
   ]
  },
  {
   "cell_type": "code",
   "execution_count": null,
   "metadata": {},
   "outputs": [],
   "source": []
  },
  {
   "cell_type": "markdown",
   "metadata": {},
   "source": [
    "## Plot CO2 data\n",
    "Our data set is: \n",
    "\n",
    "+ Time : 0, 1, 2, 3, 4, 5, 6. \n",
    "+ CO$_2$ concentration (ppm): 250, 265, 272, 260, 300, 320, 389  \n",
    "\n",
    "Create a line graph of CO$_2$ versus time"
   ]
  },
  {
   "cell_type": "code",
   "execution_count": null,
   "metadata": {},
   "outputs": [],
   "source": []
  },
  {
   "cell_type": "markdown",
   "metadata": {},
   "source": [
    "Redraw the graph with a black dashed line.\n",
    "\n",
    "Add title and axis titles."
   ]
  },
  {
   "cell_type": "code",
   "execution_count": null,
   "metadata": {},
   "outputs": [],
   "source": []
  },
  {
   "cell_type": "markdown",
   "metadata": {},
   "source": [
    "Add new line with this data:\n",
    "+ Temp (°c): 14.1, 15.5, 16.3, 18.1, 17.3, 19.1, 20.2 "
   ]
  },
  {
   "cell_type": "markdown",
   "metadata": {},
   "source": [
    "## Reproduce this plot:\n",
    "![img](sines.png)\n",
    "Hint: _use a range from 0 to 15, a loop (can be done without) and `np.sin()`_"
   ]
  },
  {
   "cell_type": "code",
   "execution_count": null,
   "metadata": {},
   "outputs": [],
   "source": []
  },
  {
   "cell_type": "markdown",
   "metadata": {},
   "source": [
    "## Plot a bivariate gaussian distribution\n",
    "_use `np.random` module to generate the data_\n",
    "\n",
    "Plot a scatter, a histogram and a and a histogram with hexagonal binning"
   ]
  },
  {
   "cell_type": "code",
   "execution_count": null,
   "metadata": {},
   "outputs": [],
   "source": []
  }
 ],
 "metadata": {
  "kernelspec": {
   "display_name": "Python 3",
   "language": "python",
   "name": "python3"
  },
  "language_info": {
   "codemirror_mode": {
    "name": "ipython",
    "version": 3
   },
   "file_extension": ".py",
   "mimetype": "text/x-python",
   "name": "python",
   "nbconvert_exporter": "python",
   "pygments_lexer": "ipython3",
   "version": "3.6.5"
  }
 },
 "nbformat": 4,
 "nbformat_minor": 2
}
