{
 "cells": [
  {
   "cell_type": "markdown",
   "metadata": {},
   "source": [
    "# The Curse of Dimensionality"
   ]
  },
  {
   "cell_type": "markdown",
   "metadata": {},
   "source": [
    "## Example 1: $P(x)$ of $x$ being at the border of a unit square\n",
    "\n",
    "Pick a random point in a unit square (1 x 1). It will have 0.4% chance of being located less than 0.001 from the border.\n",
    "\n",
    "Let's make a simulation of this scenario:"
   ]
  },
  {
   "cell_type": "code",
   "execution_count": 1,
   "metadata": {},
   "outputs": [],
   "source": [
    "import numpy as np\n",
    "import matplotlib.pyplot as plt\n",
    "import matplotlib as mpl\n",
    "import seaborn as sns\n",
    "%matplotlib inline"
   ]
  },
  {
   "cell_type": "code",
   "execution_count": 2,
   "metadata": {},
   "outputs": [],
   "source": [
    "def vis_square(border):\n",
    "    \"\"\"\n",
    "    Visualize a square with a border and a random point\n",
    "    \"\"\"\n",
    "    \n",
    "    def draw_squares(border):\n",
    "        # draws the two squares\n",
    "        sqr = mpl.patches.Rectangle((0,0),1,1)\n",
    "        ax.add_patch(sqr)\n",
    "        sqr_2 = mpl.patches.Rectangle((0+border,0+border),1-border*2,1-border*2, color='w')\n",
    "        ax.add_patch(sqr_2)\n",
    "\n",
    "    # random point (x, y):\n",
    "    x, y = np.random.rand(2)\n",
    "\n",
    "    fig, ax = plt.subplots(figsize=(7,7))\n",
    "    draw_squares(border)\n",
    "    ax.plot([x],[y], c='r',marker='x', markersize=12)\n",
    "    ax.set_xlim(0,1)\n",
    "    ax.set_ylim(0,1)\n",
    "    plt.show()"
   ]
  },
  {
   "cell_type": "code",
   "execution_count": 14,
   "metadata": {},
   "outputs": [
    {
     "data": {
      "image/png": "[encoded data removed]",
      "text/plain": [
       "<Figure size 504x504 with 1 Axes>"
      ]
     },
     "metadata": {},
     "output_type": "display_data"
    }
   ],
   "source": [
    "vis_square(0.01)  # border = 0.001 is not visible "
   ]
  },
  {
   "cell_type": "markdown",
   "metadata": {},
   "source": [
    "The probability of the random point $x$ to land in the blue zone is:\n",
    "\n",
    "### with Monte Carlo simulation (naive approach):"
   ]
  },
  {
   "cell_type": "code",
   "execution_count": 18,
   "metadata": {},
   "outputs": [],
   "source": [
    "def simulate(n, matrix):\n",
    "    count = 0\n",
    "    border_points = 0\n",
    "\n",
    "    while count < n:    \n",
    "        sample = np.random.choice(matrix.flat)\n",
    "        if sample == 0:\n",
    "            border_points +=1\n",
    "        count += 1\n",
    "\n",
    "    print(f'probabilty of point in border: {border_points/count}')"
   ]
  },
  {
   "cell_type": "code",
   "execution_count": 19,
   "metadata": {},
   "outputs": [],
   "source": [
    "mat = np.zeros((1000,1000), dtype=np.bool)\n",
    "mat[1:-1,1:-1] = 1  # left border with 0 "
   ]
  },
  {
   "cell_type": "code",
   "execution_count": 20,
   "metadata": {},
   "outputs": [
    {
     "name": "stdout",
     "output_type": "stream",
     "text": [
      "probabilty of point in border: 0.004\n"
     ]
    }
   ],
   "source": [
    "simulate(10000, mat)"
   ]
  },
  {
   "cell_type": "markdown",
   "metadata": {},
   "source": [
    "the problem of this approach is that with 4 dimension ($1000^4$) we run out of memory.\n",
    "\n",
    "Each element of `np.bool` is a byte. So we need 1000^4 bytes which is **931.32257 Gb** ...a bit too much.\n"
   ]
  },
  {
   "cell_type": "markdown",
   "metadata": {},
   "source": [
    "### With math:\n",
    "\n",
    "Let's start with 1-D example:\n",
    "\n",
    "We have a segment of length 1. And we crop two small segments of 0.001 at both ends of the the segment. We will call $B$ the small segments ($B = 0.002$) and the long segment $A$:\n",
    "\n",
    "$$ A_1 + B_1 = 1 $$\n",
    "\n",
    "then, \n",
    "\n",
    "$$ A_1 = 1 - B_1 $$\n",
    "\n",
    "$$ A_1 = 0.998 $$\n",
    "\n",
    "The probability of picking a random point that lays in the borders is:\n",
    "\n",
    "$$P(x \\in B) = 1 - 0.998 = 0.002 $$\n",
    "$$P(x \\in B) = B$$\n",
    "\n",
    "Which is the length of the borders.\n",
    "\n",
    "For the 2-D example simply square the inner segment $A^2 = 0.996$ and do difference with $1$ to get the area of the border:\n",
    "\n",
    "$$ B_2 = 1 - 0.998^2 = 0.004 $$\n",
    "\n",
    "Generalizing for arbitrary number of dimensions $d$:\n",
    "\n",
    "$$ B_d = 1 - 0.998^d $$"
   ]
  },
  {
   "cell_type": "code",
   "execution_count": 43,
   "metadata": {},
   "outputs": [],
   "source": [
    "# implement the equaiton\n",
    "def border_prob(d):\n",
    "    prob = 1 - (0.998)**d\n",
    "    return prob"
   ]
  },
  {
   "cell_type": "code",
   "execution_count": 140,
   "metadata": {},
   "outputs": [
    {
     "data": {
      "text/plain": [
       "0.999999997979714"
      ]
     },
     "execution_count": 140,
     "metadata": {},
     "output_type": "execute_result"
    }
   ],
   "source": [
    "border_prob(10000)"
   ]
  },
  {
   "cell_type": "markdown",
   "metadata": {},
   "source": [
    "Most points in a high-dimensional hypercube are very close to the border!. \n",
    "> Anyone you know is probably an extremist in at least one dimension (e.g., how much sugar they put in their coffee), if you considere enough dimensions\n",
    "\n",
    "Aurélien Geron in Hands on Machine Learning with Scikit-Learn & TensorFlow"
   ]
  },
  {
   "cell_type": "markdown",
   "metadata": {},
   "source": [
    "## Distance example\n",
    "\n",
    "A more troublesome effect of high dimensional spaces: pick two random points in a unit square, the mean distance between these two points will be 0.52. In a unit 3D cube, the average distance will be 0.66. Let's see what happens in higher dimensions:"
   ]
  },
  {
   "cell_type": "code",
   "execution_count": 47,
   "metadata": {
    "hideCode": false
   },
   "outputs": [],
   "source": [
    "def mean_dist(d, n, p=2):\n",
    "    \"\"\"\n",
    "    mean distance between pairs of random points in d dimensional space\n",
    "    \n",
    "    Parameters\n",
    "    ----------\n",
    "    \n",
    "    d: int, number of dimensions\n",
    "    \n",
    "    n: int, number of pair of points (high == precision)\n",
    "    \n",
    "    p: int, subindex for the L_p norm or distance.\n",
    "        L_2 (p=2) is euclidian distance, L_1 (p=1) is manhattan,\n",
    "    \n",
    "    Returns\n",
    "    -------\n",
    "    tuple(float, float)\n",
    "      mean distance of the n pair of points.\n",
    "      difference max dist and min dist\n",
    "    \"\"\"\n",
    "    distances = []\n",
    "    for _ in range(n):\n",
    "        a = np.random.rand(int(d))\n",
    "        b = np.random.rand(int(d))\n",
    "        distances.append(np.linalg.norm(a-b, p))\n",
    "    return np.mean(distances), max(distances) - min(distances)"
   ]
  },
  {
   "cell_type": "code",
   "execution_count": 94,
   "metadata": {},
   "outputs": [
    {
     "data": {
      "text/plain": [
       "(0.6609649658517913, 1.4876665482841578)"
      ]
     },
     "execution_count": 94,
     "metadata": {},
     "output_type": "execute_result"
    }
   ],
   "source": [
    "mean_dist(3,10000)"
   ]
  },
  {
   "cell_type": "markdown",
   "metadata": {},
   "source": [
    "let's check the mean distance for a 1,000,000 dimensional unit hypercube"
   ]
  },
  {
   "cell_type": "code",
   "execution_count": 95,
   "metadata": {},
   "outputs": [
    {
     "data": {
      "text/plain": [
       "(129.0999493049265, 1.5905921019262053)"
      ]
     },
     "execution_count": 95,
     "metadata": {},
     "output_type": "execute_result"
    }
   ],
   "source": [
    "mean_dist(1e5, 1000)"
   ]
  },
  {
   "cell_type": "markdown",
   "metadata": {},
   "source": [
    "With diferent $l_p$ norms:"
   ]
  },
  {
   "cell_type": "code",
   "execution_count": 98,
   "metadata": {},
   "outputs": [
    {
     "data": {
      "text/plain": [
       "(1.0067371194959858, 2.3139343591017516)"
      ]
     },
     "execution_count": 98,
     "metadata": {},
     "output_type": "execute_result"
    }
   ],
   "source": [
    "mean_dist(3,1000, p=1)"
   ]
  },
  {
   "cell_type": "code",
   "execution_count": 99,
   "metadata": {},
   "outputs": [
    {
     "data": {
      "text/plain": [
       "(33335.71484949158, 480.7337897453108)"
      ]
     },
     "execution_count": 99,
     "metadata": {},
     "output_type": "execute_result"
    }
   ],
   "source": [
    "mean_dist(1e5, 1000, p=1)"
   ]
  },
  {
   "cell_type": "markdown",
   "metadata": {},
   "source": [
    "Points in this high dimensional dataset are likely to be far apart. This means that high dimensional datasets are at risk of being very sparse. \n",
    "\n",
    "How can we solve this problem?\n",
    "\n",
    "+ Gather more data:\n",
    "\n",
    "+ Reduce dimensions: projection or manifold learning"
   ]
  },
  {
   "cell_type": "code",
   "execution_count": null,
   "metadata": {},
   "outputs": [],
   "source": []
  }
 ],
 "metadata": {
  "kernelspec": {
   "display_name": "Python 3",
   "language": "python",
   "name": "python3"
  },
  "language_info": {
   "codemirror_mode": {
    "name": "ipython",
    "version": 3
   },
   "file_extension": ".py",
   "mimetype": "text/x-python",
   "name": "python",
   "nbconvert_exporter": "python",
   "pygments_lexer": "ipython3",
   "version": "3.6.5"
  }
 },
 "nbformat": 4,
 "nbformat_minor": 2
}
