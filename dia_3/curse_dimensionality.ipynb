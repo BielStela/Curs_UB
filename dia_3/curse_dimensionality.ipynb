{
 "cells": [
  {
   "cell_type": "markdown",
   "metadata": {},
   "source": [
    "# The Curse of Dimensionality"
   ]
  },
  {
   "cell_type": "markdown",
   "metadata": {},
   "source": [
    "## Example 1: $P(x)$ of $x$ being at the border of a unit square\n",
    "\n",
    "Pick a random point in a unit square (1 x 1). It will have 0.4% chance of being located less than 0.001 from the border.\n",
    "\n",
    "Let's make a simulation of this scenario:"
   ]
  },
  {
   "cell_type": "code",
   "execution_count": 1,
   "metadata": {},
   "outputs": [],
   "source": [
    "import numpy as np\n",
    "import matplotlib.pyplot as plt\n",
    "import matplotlib as mpl\n",
    "import seaborn as sns\n",
    "%matplotlib inline"
   ]
  },
  {
   "cell_type": "code",
   "execution_count": 103,
   "metadata": {},
   "outputs": [],
   "source": [
    "def vis_square(border):\n",
    "    \"\"\"\n",
    "    Visualize a square with a border and a random point\n",
    "    \"\"\"\n",
    "    \n",
    "    def draw_squares(border):\n",
    "        # draws the two squares\n",
    "        sqr = mpl.patches.Rectangle((0,0),1,1)\n",
    "        ax.add_patch(sqr)\n",
    "        sqr_2 = mpl.patches.Rectangle((0+border,0+border),1-border*2,1-border*2, color='w')\n",
    "        ax.add_patch(sqr_2)\n",
    "\n",
    "    # random point (x, y):\n",
    "    x, y = np.random.rand(2)\n",
    "\n",
    "    fig, ax = plt.subplots(figsize=(7,7))\n",
    "    draw_squares(border)\n",
    "    ax.plot([x],[y], c='r',marker='x', markersize=12)\n",
    "    ax.set_xlim(0,1)\n",
    "    ax.set_ylim(0,1)\n",
    "    plt.show()"
   ]
  },
  {
   "cell_type": "code",
   "execution_count": 104,
   "metadata": {},
   "outputs": [
    {
     "data": {
      "image/png": "[encoded data removed]",
      "text/plain": [
       "<Figure size 504x504 with 1 Axes>"
      ]
     },
     "metadata": {},
     "output_type": "display_data"
    }
   ],
   "source": [
    "vis_square(0.01)  # border = 0.001 is not visible "
   ]
  },
  {
   "cell_type": "markdown",
   "metadata": {},
   "source": [
    "The probability of the random point $x$ to land in the blue zone is:\n",
    "\n",
    "### with Monte Carlo simulation (naive approach):"
   ]
  },
  {
   "cell_type": "code",
   "execution_count": 105,
   "metadata": {},
   "outputs": [],
   "source": [
    "def simulate(n=10000, mat=mat):\n",
    "    count = 0\n",
    "    border_points = 0\n",
    "\n",
    "    while count < n:    \n",
    "        sample = np.random.choice(mat.flat)\n",
    "        if sample == 0:\n",
    "            border_points +=1\n",
    "        count += 1\n",
    "\n",
    "    print(f'probabilty of point in border: {border_points/count}')"
   ]
  },
  {
   "cell_type": "code",
   "execution_count": 106,
   "metadata": {},
   "outputs": [],
   "source": [
    "mat = np.zeros((1000,1000), dtype=np.bool)\n",
    "mat[1:-1,1:-1] = 1  # left border with 0 "
   ]
  },
  {
   "cell_type": "code",
   "execution_count": 107,
   "metadata": {},
   "outputs": [
    {
     "name": "stdout",
     "output_type": "stream",
     "text": [
      "probabilty of point in border: 0.0043\n"
     ]
    }
   ],
   "source": [
    "simulate(10000, mat)"
   ]
  },
  {
   "cell_type": "markdown",
   "metadata": {},
   "source": [
    "the problem of this approach is that with 4 dimension ($1000^4$) we run out of memory.\n",
    "\n",
    "Each element of `np.bool` is a byte. So we need 1000^4 bytes which is **931.32257 Gb** ...a bit too much.\n"
   ]
  },
  {
   "cell_type": "markdown",
   "metadata": {},
   "source": [
    "### With math:\n",
    "\n",
    "Let's start with 1-D example:\n",
    "\n",
    "We have a segment of length 1. And we crop two small segments of 0.001 at both ends of the the segment. We will call $B$ the small segments ($B = 0.002$) and the long segment $A$:\n",
    "\n",
    "$$ A_1 + B_1 = 1 $$\n",
    "\n",
    "then, \n",
    "\n",
    "$$ A_1 = 1 - B_1 $$\n",
    "\n",
    "$$ A_1 = 0.998 $$\n",
    "\n",
    "The probability of picking a random point that lays in the borders is:\n",
    "\n",
    "$$P(x \\in B) = 1 - 0.998 = 0.002 $$\n",
    "$$P(x \\in B) = B$$\n",
    "\n",
    "Which is the length of the borders.\n",
    "\n",
    "For the 2-D example simply square the inner segment $A^2 = 0.996$ and do difference with $1$ to get the area of the border:\n",
    "\n",
    "$$ B_2 = 1 - 0.998^2 = 0.004 $$\n",
    "\n",
    "Generalizing for arbitrary number of dimensions $d$:\n",
    "\n",
    "$$ B_d = 1 - 0.998^d $$"
   ]
  },
  {
   "cell_type": "code",
   "execution_count": 43,
   "metadata": {},
   "outputs": [],
   "source": [
    "# implement the equaiton\n",
    "def border_prob(d):\n",
    "    prob = 1 - (0.998)**d\n",
    "    return prob"
   ]
  },
  {
   "cell_type": "code",
   "execution_count": 47,
   "metadata": {},
   "outputs": [
    {
     "data": {
      "text/plain": [
       "0.999999997979714"
      ]
     },
     "execution_count": 47,
     "metadata": {},
     "output_type": "execute_result"
    }
   ],
   "source": [
    "border_prob(10000)"
   ]
  },
  {
   "cell_type": "code",
   "execution_count": 98,
   "metadata": {},
   "outputs": [
    {
     "data": {
      "text/plain": [
       "4e-06"
      ]
     },
     "execution_count": 98,
     "metadata": {},
     "output_type": "execute_result"
    }
   ],
   "source": []
  },
  {
   "cell_type": "markdown",
   "metadata": {},
   "source": [
    "## Distance example"
   ]
  },
  {
   "cell_type": "markdown",
   "metadata": {},
   "source": [
    "mean distance between two random points"
   ]
  },
  {
   "cell_type": "code",
   "execution_count": 49,
   "metadata": {
    "hideCode": false
   },
   "outputs": [],
   "source": [
    "def mean_dist(d, n):\n",
    "    distances = []\n",
    "    for _ in range(n):\n",
    "        a = np.random.rand(d)\n",
    "        b = np.random.rand(d)\n",
    "        distances.append(np.linalg.norm(a-b))\n",
    "    return np.mean(distances)"
   ]
  },
  {
   "cell_type": "code",
   "execution_count": 66,
   "metadata": {},
   "outputs": [
    {
     "data": {
      "text/plain": [
       "70.71263898980921"
      ]
     },
     "execution_count": 66,
     "metadata": {},
     "output_type": "execute_result"
    }
   ],
   "source": [
    "mean_dist(30000,1000)"
   ]
  },
  {
   "cell_type": "code",
   "execution_count": 64,
   "metadata": {},
   "outputs": [],
   "source": [
    "from scipy.spatial import distance\n",
    "\n",
    "def mean_dist_improved(d, n):\n",
    "    \"\"\"\n",
    "    imporved version, more 'numpystic'\n",
    "    \"\"\"\n",
    "    mat = np.random.rand(n, d)\n",
    "    return distance.pdist(mat).mean()"
   ]
  },
  {
   "cell_type": "code",
   "execution_count": 67,
   "metadata": {},
   "outputs": [
    {
     "data": {
      "text/plain": [
       "70.70273504945953"
      ]
     },
     "execution_count": 67,
     "metadata": {},
     "output_type": "execute_result"
    }
   ],
   "source": [
    "mean_dist_improved(30000,1000)"
   ]
  },
  {
   "cell_type": "code",
   "execution_count": null,
   "metadata": {},
   "outputs": [],
   "source": []
  }
 ],
 "metadata": {
  "kernelspec": {
   "display_name": "Python 3",
   "language": "python",
   "name": "python3"
  },
  "language_info": {
   "codemirror_mode": {
    "name": "ipython",
    "version": 3
   },
   "file_extension": ".py",
   "mimetype": "text/x-python",
   "name": "python",
   "nbconvert_exporter": "python",
   "pygments_lexer": "ipython3",
   "version": "3.6.5"
  }
 },
 "nbformat": 4,
 "nbformat_minor": 2
}
