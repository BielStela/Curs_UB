{
 "cells": [
  {
   "cell_type": "markdown",
   "metadata": {},
   "source": [
    "# Hands on exercise with disease data\n",
    "\n",
    "Here we are going to explore some real data set. The data comes from [Project Tycho](https://www.tycho.pitt.edu/data/), a huge database with disease data. \n",
    "\n",
    "To get started, first we need to import the libraries we are going to use:"
   ]
  },
  {
   "cell_type": "code",
   "execution_count": 1,
   "metadata": {},
   "outputs": [],
   "source": [
    "#load libraries\n",
    "import pandas as pd\n",
    "import numpy as np"
   ]
  },
  {
   "cell_type": "markdown",
   "metadata": {},
   "source": [
    "Now we are going to **load the data**. \n",
    "\n",
    "The data is presented here in form of a csv file. We could write a csv parser and so but it will be tedious, prone to bugs, and slow. Instead we are going the use `pandas.read_csv` function!"
   ]
  },
  {
   "cell_type": "code",
   "execution_count": 2,
   "metadata": {},
   "outputs": [
    {
     "name": "stderr",
     "output_type": "stream",
     "text": [
      "C:\\Users\\Biel\\Anaconda3\\lib\\site-packages\\IPython\\core\\interactiveshell.py:2785: DtypeWarning: Columns (8) have mixed types. Specify dtype option on import or set low_memory=False.\n",
      "  interactivity=interactivity, compiler=compiler, result=result)\n"
     ]
    }
   ],
   "source": [
    "# loading Dengue disease data.\n",
    "dengue = pd.read_csv('dengue_all_countries.csv', index_col=0, )"
   ]
  },
  {
   "cell_type": "markdown",
   "metadata": {},
   "source": [
    "what `pandas.read_csv` has done for us:\n",
    "+ Parse the csv.\n",
    "+ Take care of file malformations.\n",
    "+ Handle missing values.\n",
    "+ Create the `pandas.DataFrame` object with the data."
   ]
  },
  {
   "cell_type": "code",
   "execution_count": 3,
   "metadata": {
    "scrolled": true
   },
   "outputs": [
    {
     "data": {
      "text/html": [
       "<div>\n",
       "<style scoped>\n",
       "    .dataframe tbody tr th:only-of-type {\n",
       "        vertical-align: middle;\n",
       "    }\n",
       "\n",
       "    .dataframe tbody tr th {\n",
       "        vertical-align: top;\n",
       "    }\n",
       "\n",
       "    .dataframe thead th {\n",
       "        text-align: right;\n",
       "    }\n",
       "</style>\n",
       "<table border=\"1\" class=\"dataframe\">\n",
       "  <thead>\n",
       "    <tr style=\"text-align: right;\">\n",
       "      <th></th>\n",
       "      <th>text/csv</th>\n",
       "      <th>text/html</th>\n",
       "      <th>text/plain</th>\n",
       "      <th>Admin1ISO</th>\n",
       "      <th>Admin1Name</th>\n",
       "      <th>Admin2Name</th>\n",
       "      <th>AgeRange</th>\n",
       "      <th>CityName</th>\n",
       "      <th>ConditionName</th>\n",
       "      <th>ConditionSNOMED</th>\n",
       "      <th>...</th>\n",
       "      <th>Fatalities</th>\n",
       "      <th>PartOfCumulativeCountSeries</th>\n",
       "      <th>PathogenName</th>\n",
       "      <th>PathogenTaxonID</th>\n",
       "      <th>PeriodEndDate</th>\n",
       "      <th>PeriodStartDate</th>\n",
       "      <th>PlaceOfAcquisition</th>\n",
       "      <th>SourceName</th>\n",
       "      <th>Subpopulation</th>\n",
       "      <th>text/xml</th>\n",
       "    </tr>\n",
       "  </thead>\n",
       "  <tbody>\n",
       "    <tr>\n",
       "      <th>0</th>\n",
       "      <td>NaN</td>\n",
       "      <td>NaN</td>\n",
       "      <td>NaN</td>\n",
       "      <td>NaN</td>\n",
       "      <td>NaN</td>\n",
       "      <td>NaN</td>\n",
       "      <td>0-130</td>\n",
       "      <td>NaN</td>\n",
       "      <td>Dengue</td>\n",
       "      <td>38362002.0</td>\n",
       "      <td>...</td>\n",
       "      <td>0.0</td>\n",
       "      <td>0.0</td>\n",
       "      <td>Dengue virus</td>\n",
       "      <td>12637.0</td>\n",
       "      <td>1995-12-31</td>\n",
       "      <td>1995-01-01</td>\n",
       "      <td>NaN</td>\n",
       "      <td>Pan American Health Organization Website</td>\n",
       "      <td>None specified</td>\n",
       "      <td>NaN</td>\n",
       "    </tr>\n",
       "    <tr>\n",
       "      <th>1</th>\n",
       "      <td>NaN</td>\n",
       "      <td>NaN</td>\n",
       "      <td>NaN</td>\n",
       "      <td>NaN</td>\n",
       "      <td>NaN</td>\n",
       "      <td>NaN</td>\n",
       "      <td>0-130</td>\n",
       "      <td>NaN</td>\n",
       "      <td>Dengue</td>\n",
       "      <td>38362002.0</td>\n",
       "      <td>...</td>\n",
       "      <td>0.0</td>\n",
       "      <td>0.0</td>\n",
       "      <td>Dengue virus</td>\n",
       "      <td>12637.0</td>\n",
       "      <td>1996-12-31</td>\n",
       "      <td>1996-01-01</td>\n",
       "      <td>NaN</td>\n",
       "      <td>Pan American Health Organization Website</td>\n",
       "      <td>None specified</td>\n",
       "      <td>NaN</td>\n",
       "    </tr>\n",
       "    <tr>\n",
       "      <th>2</th>\n",
       "      <td>NaN</td>\n",
       "      <td>NaN</td>\n",
       "      <td>NaN</td>\n",
       "      <td>NaN</td>\n",
       "      <td>NaN</td>\n",
       "      <td>NaN</td>\n",
       "      <td>0-130</td>\n",
       "      <td>NaN</td>\n",
       "      <td>Dengue</td>\n",
       "      <td>38362002.0</td>\n",
       "      <td>...</td>\n",
       "      <td>0.0</td>\n",
       "      <td>0.0</td>\n",
       "      <td>Dengue virus</td>\n",
       "      <td>12637.0</td>\n",
       "      <td>1997-12-31</td>\n",
       "      <td>1997-01-01</td>\n",
       "      <td>NaN</td>\n",
       "      <td>Pan American Health Organization Website</td>\n",
       "      <td>None specified</td>\n",
       "      <td>NaN</td>\n",
       "    </tr>\n",
       "    <tr>\n",
       "      <th>3</th>\n",
       "      <td>NaN</td>\n",
       "      <td>NaN</td>\n",
       "      <td>NaN</td>\n",
       "      <td>NaN</td>\n",
       "      <td>NaN</td>\n",
       "      <td>NaN</td>\n",
       "      <td>0-130</td>\n",
       "      <td>NaN</td>\n",
       "      <td>Dengue</td>\n",
       "      <td>38362002.0</td>\n",
       "      <td>...</td>\n",
       "      <td>0.0</td>\n",
       "      <td>0.0</td>\n",
       "      <td>Dengue virus</td>\n",
       "      <td>12637.0</td>\n",
       "      <td>1998-12-31</td>\n",
       "      <td>1998-01-01</td>\n",
       "      <td>NaN</td>\n",
       "      <td>Pan American Health Organization Website</td>\n",
       "      <td>None specified</td>\n",
       "      <td>NaN</td>\n",
       "    </tr>\n",
       "  </tbody>\n",
       "</table>\n",
       "<p>4 rows × 24 columns</p>\n",
       "</div>"
      ],
      "text/plain": [
       "    text/csv   text/html   text/plain Admin1ISO Admin1Name Admin2Name  \\\n",
       "0        NaN         NaN          NaN       NaN        NaN        NaN   \n",
       "1        NaN         NaN          NaN       NaN        NaN        NaN   \n",
       "2        NaN         NaN          NaN       NaN        NaN        NaN   \n",
       "3        NaN         NaN          NaN       NaN        NaN        NaN   \n",
       "\n",
       "  AgeRange CityName ConditionName  ConditionSNOMED   ...     Fatalities  \\\n",
       "0    0-130      NaN        Dengue       38362002.0   ...            0.0   \n",
       "1    0-130      NaN        Dengue       38362002.0   ...            0.0   \n",
       "2    0-130      NaN        Dengue       38362002.0   ...            0.0   \n",
       "3    0-130      NaN        Dengue       38362002.0   ...            0.0   \n",
       "\n",
       "  PartOfCumulativeCountSeries  PathogenName  PathogenTaxonID  PeriodEndDate  \\\n",
       "0                         0.0  Dengue virus          12637.0     1995-12-31   \n",
       "1                         0.0  Dengue virus          12637.0     1996-12-31   \n",
       "2                         0.0  Dengue virus          12637.0     1997-12-31   \n",
       "3                         0.0  Dengue virus          12637.0     1998-12-31   \n",
       "\n",
       "   PeriodStartDate PlaceOfAcquisition  \\\n",
       "0       1995-01-01                NaN   \n",
       "1       1996-01-01                NaN   \n",
       "2       1997-01-01                NaN   \n",
       "3       1998-01-01                NaN   \n",
       "\n",
       "                                 SourceName   Subpopulation text/xml  \n",
       "0  Pan American Health Organization Website  None specified      NaN  \n",
       "1  Pan American Health Organization Website  None specified      NaN  \n",
       "2  Pan American Health Organization Website  None specified      NaN  \n",
       "3  Pan American Health Organization Website  None specified      NaN  \n",
       "\n",
       "[4 rows x 24 columns]"
      ]
     },
     "execution_count": 3,
     "metadata": {},
     "output_type": "execute_result"
    }
   ],
   "source": [
    "dengue.head(4)  # view the first 4 rows of the data frame "
   ]
  },
  {
   "cell_type": "code",
   "execution_count": 4,
   "metadata": {},
   "outputs": [
    {
     "data": {
      "text/plain": [
       "53384"
      ]
     },
     "execution_count": 4,
     "metadata": {},
     "output_type": "execute_result"
    }
   ],
   "source": [
    "len(dengue)"
   ]
  },
  {
   "cell_type": "code",
   "execution_count": 5,
   "metadata": {},
   "outputs": [
    {
     "data": {
      "text/plain": [
       "(53384, 24)"
      ]
     },
     "execution_count": 5,
     "metadata": {},
     "output_type": "execute_result"
    }
   ],
   "source": [
    "dengue.shape  # like a numpy ndarray"
   ]
  },
  {
   "cell_type": "markdown",
   "metadata": {},
   "source": [
    "## Data cleaning"
   ]
  },
  {
   "cell_type": "markdown",
   "metadata": {},
   "source": [
    "First, we should take a general look to the data structure, types and missing values. \n",
    "\n",
    "This can be easily done with `df.info()`"
   ]
  },
  {
   "cell_type": "code",
   "execution_count": 6,
   "metadata": {},
   "outputs": [
    {
     "name": "stdout",
     "output_type": "stream",
     "text": [
      "<class 'pandas.core.frame.DataFrame'>\n",
      "Int64Index: 53384 entries, 0 to 29\n",
      "Data columns (total 24 columns):\n",
      " text/csv                      0 non-null float64\n",
      " text/html                     0 non-null float64\n",
      " text/plain                    0 non-null float64\n",
      "Admin1ISO                      48747 non-null object\n",
      "Admin1Name                     48747 non-null object\n",
      "Admin2Name                     3626 non-null object\n",
      "AgeRange                       53384 non-null object\n",
      "CityName                       562 non-null object\n",
      "ConditionName                  53384 non-null object\n",
      "ConditionSNOMED                53384 non-null float64\n",
      "CountValue                     53384 non-null float64\n",
      "CountryCode                    53384 non-null object\n",
      "CountryName                    53384 non-null object\n",
      "DiagnosisCertainty             0 non-null float64\n",
      "Fatalities                     53384 non-null float64\n",
      "PartOfCumulativeCountSeries    53384 non-null float64\n",
      "PathogenName                   53384 non-null object\n",
      "PathogenTaxonID                53384 non-null float64\n",
      "PeriodEndDate                  53384 non-null object\n",
      "PeriodStartDate                53384 non-null object\n",
      "PlaceOfAcquisition             0 non-null float64\n",
      "SourceName                     53384 non-null object\n",
      "Subpopulation                  53384 non-null object\n",
      "text/xml                       0 non-null float64\n",
      "dtypes: float64(11), object(13)\n",
      "memory usage: 10.2+ MB\n"
     ]
    }
   ],
   "source": [
    "dengue.info(verbose=True)"
   ]
  },
  {
   "cell_type": "markdown",
   "metadata": {},
   "source": [
    "We can **drop the empty columns**:"
   ]
  },
  {
   "cell_type": "code",
   "execution_count": 7,
   "metadata": {},
   "outputs": [],
   "source": [
    "dengue.dropna(axis=1, how='all', inplace=True)"
   ]
  },
  {
   "cell_type": "code",
   "execution_count": 8,
   "metadata": {
    "scrolled": false
   },
   "outputs": [
    {
     "name": "stdout",
     "output_type": "stream",
     "text": [
      "<class 'pandas.core.frame.DataFrame'>\n",
      "Int64Index: 53384 entries, 0 to 29\n",
      "Data columns (total 18 columns):\n",
      "Admin1ISO                      48747 non-null object\n",
      "Admin1Name                     48747 non-null object\n",
      "Admin2Name                     3626 non-null object\n",
      "AgeRange                       53384 non-null object\n",
      "CityName                       562 non-null object\n",
      "ConditionName                  53384 non-null object\n",
      "ConditionSNOMED                53384 non-null float64\n",
      "CountValue                     53384 non-null float64\n",
      "CountryCode                    53384 non-null object\n",
      "CountryName                    53384 non-null object\n",
      "Fatalities                     53384 non-null float64\n",
      "PartOfCumulativeCountSeries    53384 non-null float64\n",
      "PathogenName                   53384 non-null object\n",
      "PathogenTaxonID                53384 non-null float64\n",
      "PeriodEndDate                  53384 non-null object\n",
      "PeriodStartDate                53384 non-null object\n",
      "SourceName                     53384 non-null object\n",
      "Subpopulation                  53384 non-null object\n",
      "dtypes: float64(5), object(13)\n",
      "memory usage: 7.7+ MB\n"
     ]
    }
   ],
   "source": [
    "dengue.info()"
   ]
  },
  {
   "cell_type": "markdown",
   "metadata": {},
   "source": [
    "This dataset is already well structured. But there are a lot of columns. \n",
    "\n",
    "Lets get an insight of which are the useful ones"
   ]
  },
  {
   "cell_type": "code",
   "execution_count": 9,
   "metadata": {
    "scrolled": true
   },
   "outputs": [
    {
     "data": {
      "text/html": [
       "<div>\n",
       "<style scoped>\n",
       "    .dataframe tbody tr th:only-of-type {\n",
       "        vertical-align: middle;\n",
       "    }\n",
       "\n",
       "    .dataframe tbody tr th {\n",
       "        vertical-align: top;\n",
       "    }\n",
       "\n",
       "    .dataframe thead th {\n",
       "        text-align: right;\n",
       "    }\n",
       "</style>\n",
       "<table border=\"1\" class=\"dataframe\">\n",
       "  <thead>\n",
       "    <tr style=\"text-align: right;\">\n",
       "      <th></th>\n",
       "      <th>0</th>\n",
       "    </tr>\n",
       "  </thead>\n",
       "  <tbody>\n",
       "    <tr>\n",
       "      <th>Admin1ISO</th>\n",
       "      <td>NaN</td>\n",
       "    </tr>\n",
       "    <tr>\n",
       "      <th>Admin1Name</th>\n",
       "      <td>NaN</td>\n",
       "    </tr>\n",
       "    <tr>\n",
       "      <th>Admin2Name</th>\n",
       "      <td>NaN</td>\n",
       "    </tr>\n",
       "    <tr>\n",
       "      <th>AgeRange</th>\n",
       "      <td>0-130</td>\n",
       "    </tr>\n",
       "    <tr>\n",
       "      <th>CityName</th>\n",
       "      <td>NaN</td>\n",
       "    </tr>\n",
       "    <tr>\n",
       "      <th>ConditionName</th>\n",
       "      <td>Dengue</td>\n",
       "    </tr>\n",
       "    <tr>\n",
       "      <th>ConditionSNOMED</th>\n",
       "      <td>3.8362e+07</td>\n",
       "    </tr>\n",
       "    <tr>\n",
       "      <th>CountValue</th>\n",
       "      <td>56</td>\n",
       "    </tr>\n",
       "    <tr>\n",
       "      <th>CountryCode</th>\n",
       "      <td>AG</td>\n",
       "    </tr>\n",
       "    <tr>\n",
       "      <th>CountryName</th>\n",
       "      <td>ANTIGUA AND BARBUDA</td>\n",
       "    </tr>\n",
       "    <tr>\n",
       "      <th>Fatalities</th>\n",
       "      <td>0</td>\n",
       "    </tr>\n",
       "    <tr>\n",
       "      <th>PartOfCumulativeCountSeries</th>\n",
       "      <td>0</td>\n",
       "    </tr>\n",
       "    <tr>\n",
       "      <th>PathogenName</th>\n",
       "      <td>Dengue virus</td>\n",
       "    </tr>\n",
       "    <tr>\n",
       "      <th>PathogenTaxonID</th>\n",
       "      <td>12637</td>\n",
       "    </tr>\n",
       "    <tr>\n",
       "      <th>PeriodEndDate</th>\n",
       "      <td>1995-12-31</td>\n",
       "    </tr>\n",
       "    <tr>\n",
       "      <th>PeriodStartDate</th>\n",
       "      <td>1995-01-01</td>\n",
       "    </tr>\n",
       "    <tr>\n",
       "      <th>SourceName</th>\n",
       "      <td>Pan American Health Organization Website</td>\n",
       "    </tr>\n",
       "    <tr>\n",
       "      <th>Subpopulation</th>\n",
       "      <td>None specified</td>\n",
       "    </tr>\n",
       "  </tbody>\n",
       "</table>\n",
       "</div>"
      ],
      "text/plain": [
       "                                                                    0\n",
       "Admin1ISO                                                         NaN\n",
       "Admin1Name                                                        NaN\n",
       "Admin2Name                                                        NaN\n",
       "AgeRange                                                        0-130\n",
       "CityName                                                          NaN\n",
       "ConditionName                                                  Dengue\n",
       "ConditionSNOMED                                            3.8362e+07\n",
       "CountValue                                                         56\n",
       "CountryCode                                                        AG\n",
       "CountryName                                       ANTIGUA AND BARBUDA\n",
       "Fatalities                                                          0\n",
       "PartOfCumulativeCountSeries                                         0\n",
       "PathogenName                                             Dengue virus\n",
       "PathogenTaxonID                                                 12637\n",
       "PeriodEndDate                                              1995-12-31\n",
       "PeriodStartDate                                            1995-01-01\n",
       "SourceName                   Pan American Health Organization Website\n",
       "Subpopulation                                          None specified"
      ]
     },
     "execution_count": 9,
     "metadata": {},
     "output_type": "execute_result"
    }
   ],
   "source": [
    "dengue.head(1).T  # transpose the first row"
   ]
  },
  {
   "cell_type": "markdown",
   "metadata": {},
   "source": [
    "`Admin1Name`, `Admin1ISO` and `Admin2Name` are not represented in every country, but we can keep it in case we want to work with a country where those categories are present. \n",
    "\n",
    "Lets look at `AgeRange`:"
   ]
  },
  {
   "cell_type": "code",
   "execution_count": 10,
   "metadata": {},
   "outputs": [
    {
     "data": {
      "text/plain": [
       "array(['0-130'], dtype=object)"
      ]
     },
     "execution_count": 10,
     "metadata": {},
     "output_type": "execute_result"
    }
   ],
   "source": [
    "dengue['AgeRange'].unique()"
   ]
  },
  {
   "cell_type": "markdown",
   "metadata": {},
   "source": [
    "All the entries are '0-130'. This column gives us no information."
   ]
  },
  {
   "cell_type": "code",
   "execution_count": 11,
   "metadata": {},
   "outputs": [],
   "source": [
    "dengue.drop(labels='AgeRange', axis=1, inplace=True)  # drop AgeRange column"
   ]
  },
  {
   "cell_type": "markdown",
   "metadata": {},
   "source": [
    "`ConditionSNOMED` has the wrong dtype! It looks like is is a long number and `read_csv` has casted it to a float and pandas renders it in scientific representation. If we need this column we should change the column type:"
   ]
  },
  {
   "cell_type": "code",
   "execution_count": 12,
   "metadata": {},
   "outputs": [],
   "source": [
    "dengue.ConditionSNOMED = dengue.ConditionSNOMED.astype(int)"
   ]
  },
  {
   "cell_type": "markdown",
   "metadata": {},
   "source": [
    "But since we just have dengue data we can drop the disease references:"
   ]
  },
  {
   "cell_type": "code",
   "execution_count": 13,
   "metadata": {},
   "outputs": [],
   "source": [
    "labels_to_drop= ['ConditionName', 'ConditionSNOMED', 'PathogenName', 'PathogenTaxonID']\n",
    "dengue.drop(labels=labels_to_drop, axis=1, inplace=True)"
   ]
  },
  {
   "cell_type": "code",
   "execution_count": 14,
   "metadata": {},
   "outputs": [
    {
     "name": "stdout",
     "output_type": "stream",
     "text": [
      "<class 'pandas.core.frame.DataFrame'>\n",
      "Int64Index: 53384 entries, 0 to 29\n",
      "Data columns (total 13 columns):\n",
      "Admin1ISO                      48747 non-null object\n",
      "Admin1Name                     48747 non-null object\n",
      "Admin2Name                     3626 non-null object\n",
      "CityName                       562 non-null object\n",
      "CountValue                     53384 non-null float64\n",
      "CountryCode                    53384 non-null object\n",
      "CountryName                    53384 non-null object\n",
      "Fatalities                     53384 non-null float64\n",
      "PartOfCumulativeCountSeries    53384 non-null float64\n",
      "PeriodEndDate                  53384 non-null object\n",
      "PeriodStartDate                53384 non-null object\n",
      "SourceName                     53384 non-null object\n",
      "Subpopulation                  53384 non-null object\n",
      "dtypes: float64(3), object(10)\n",
      "memory usage: 5.7+ MB\n"
     ]
    }
   ],
   "source": [
    "dengue.info()"
   ]
  },
  {
   "cell_type": "code",
   "execution_count": 15,
   "metadata": {},
   "outputs": [
    {
     "data": {
      "text/plain": [
       "array(['None specified'], dtype=object)"
      ]
     },
     "execution_count": 15,
     "metadata": {},
     "output_type": "execute_result"
    }
   ],
   "source": [
    "dengue.Subpopulation.unique()"
   ]
  },
  {
   "cell_type": "code",
   "execution_count": 16,
   "metadata": {},
   "outputs": [],
   "source": [
    "dengue.drop(columns='Subpopulation', inplace=True)"
   ]
  },
  {
   "cell_type": "markdown",
   "metadata": {},
   "source": [
    "We could (and must) change the `PeriodEndDate` and `PeriodStartDate` to a proper time series type. "
   ]
  },
  {
   "cell_type": "code",
   "execution_count": 20,
   "metadata": {},
   "outputs": [
    {
     "data": {
      "text/plain": [
       "PeriodEndDate      1996-12-31\n",
       "PeriodStartDate    1996-01-01\n",
       "Name: 1, dtype: object"
      ]
     },
     "execution_count": 20,
     "metadata": {},
     "output_type": "execute_result"
    }
   ],
   "source": [
    "dengue[['PeriodEndDate', 'PeriodStartDate']].iloc[1]"
   ]
  },
  {
   "cell_type": "code",
   "execution_count": 23,
   "metadata": {},
   "outputs": [],
   "source": [
    "dengue[['PeriodEndDate', 'PeriodStartDate']] = dengue[['PeriodEndDate', 'PeriodStartDate']].apply(pd.to_datetime)"
   ]
  },
  {
   "cell_type": "markdown",
   "metadata": {},
   "source": [
    "Look at the new type"
   ]
  },
  {
   "cell_type": "code",
   "execution_count": 25,
   "metadata": {},
   "outputs": [
    {
     "data": {
      "text/plain": [
       "PeriodEndDate     1996-12-31\n",
       "PeriodStartDate   1996-01-01\n",
       "Name: 1, dtype: datetime64[ns]"
      ]
     },
     "execution_count": 25,
     "metadata": {},
     "output_type": "execute_result"
    }
   ],
   "source": [
    "dengue[['PeriodEndDate', 'PeriodStartDate']].iloc[1]"
   ]
  },
  {
   "cell_type": "markdown",
   "metadata": {},
   "source": [
    "<div class='alert alert-warning'>\n",
    "You should avoid handling time series data as plain string. Always use `datetime` types.\n",
    "<br>\n",
    "[Relevant video](https://www.youtube.com/watch?v=-5wpm-gesOY)\n",
    "</div>"
   ]
  },
  {
   "cell_type": "code",
   "execution_count": 49,
   "metadata": {},
   "outputs": [],
   "source": [
    "now = pd.datetime.now()"
   ]
  },
  {
   "cell_type": "markdown",
   "metadata": {},
   "source": [
    "which countries are represented in the dataset?"
   ]
  },
  {
   "cell_type": "code",
   "execution_count": 17,
   "metadata": {},
   "outputs": [],
   "source": [
    "unique_countries = dengue['CountryName'].unique()"
   ]
  },
  {
   "cell_type": "code",
   "execution_count": 18,
   "metadata": {},
   "outputs": [
    {
     "data": {
      "text/plain": [
       "array(['ANTIGUA AND BARBUDA', 'ANGUILLA', 'ARGENTINA', 'AMERICAN SAMOA',\n",
       "       'AUSTRALIA', 'ARUBA', 'BARBADOS', 'BANGLADESH', 'SAINT BARTHÉLEMY',\n",
       "       'BERMUDA', 'BRUNEI DARUSSALAM', 'BOLIVIA (PLURINATIONAL STATE OF)',\n",
       "       'BRAZIL', 'BAHAMAS', 'BHUTAN', 'BELIZE', 'CANADA', 'COOK ISLANDS',\n",
       "       'CHILE', 'CHINA', 'COLOMBIA', 'COSTA RICA', 'CUBA', 'CURAÇAO',\n",
       "       'DOMINICA', 'DOMINICAN REPUBLIC', 'ECUADOR', 'FIJI',\n",
       "       'MICRONESIA (FEDERATED STATES OF)', 'GRENADA', 'FRENCH GUIANA',\n",
       "       'GUADELOUPE', 'GUATEMALA', 'GUAM', 'GUYANA', 'HONG KONG',\n",
       "       'HONDURAS', 'HAITI', 'INDONESIA', 'INDIA', 'JAMAICA', 'JAPAN',\n",
       "       'CAMBODIA', 'KIRIBATI', 'SAINT KITTS AND NEVIS',\n",
       "       'KOREA (REPUBLIC OF)', 'CAYMAN ISLANDS',\n",
       "       \"LAO PEOPLE'S DEMOCRATIC REPUBLIC\", 'SAINT LUCIA', 'SRI LANKA',\n",
       "       'SAINT MARTIN (FRENCH PART)', 'MARSHALL ISLANDS', 'MYANMAR',\n",
       "       'MONGOLIA', 'MACAO', 'NORTHERN MARIANA ISLANDS', 'MARTINIQUE',\n",
       "       'MONTSERRAT', 'MALDIVES', 'MEXICO', 'MALAYSIA', 'NEW CALEDONIA',\n",
       "       'NICARAGUA', 'NEPAL', 'NAURU', 'NIUE', 'NEW ZEALAND', 'PANAMA',\n",
       "       'PERU', 'FRENCH POLYNESIA', 'PAPUA NEW GUINEA', 'PHILIPPINES',\n",
       "       'PITCAIRN', 'PUERTO RICO', 'PALAU', 'PARAGUAY', 'SAUDI ARABIA',\n",
       "       'SOLOMON ISLANDS', 'SINGAPORE', 'SURINAME', 'EL SALVADOR',\n",
       "       'TURKS AND CAICOS ISLANDS', 'THAILAND', 'TOKELAU', 'TIMOR-LESTE',\n",
       "       'TONGA', 'TRINIDAD AND TOBAGO', 'TUVALU',\n",
       "       'TAIWAN, PROVINCE OF CHINA', 'UNITED STATES OF AMERICA', 'URUGUAY',\n",
       "       'SAINT VINCENT AND THE GRENADINES',\n",
       "       'VENEZUELA (BOLIVARIAN REPUBLIC OF)', 'VIRGIN ISLANDS (BRITISH)',\n",
       "       'VIET NAM', 'VANUATU', 'WALLIS AND FUTUNA', 'SAMOA'], dtype=object)"
      ]
     },
     "execution_count": 18,
     "metadata": {},
     "output_type": "execute_result"
    }
   ],
   "source": [
    "unique_countries"
   ]
  },
  {
   "cell_type": "code",
   "execution_count": 41,
   "metadata": {},
   "outputs": [],
   "source": [
    "city_country = dengue.groupby(by='CountryName')['CityName'].unique()"
   ]
  },
  {
   "cell_type": "code",
   "execution_count": 43,
   "metadata": {},
   "outputs": [
    {
     "data": {
      "text/plain": [
       "CountryName\n",
       "UNITED STATES OF AMERICA    [nan, PHILADELPHIA, NEW ORLEANS, RICHMOND, CLE...\n",
       "Name: CityName, dtype: object"
      ]
     },
     "execution_count": 43,
     "metadata": {},
     "output_type": "execute_result"
    }
   ],
   "source": [
    "city_country[city_name.apply(len) != 1]"
   ]
  },
  {
   "cell_type": "code",
   "execution_count": 46,
   "metadata": {},
   "outputs": [
    {
     "data": {
      "text/plain": [
       "THAILAND                              5000\n",
       "CAMBODIA                              5000\n",
       "PHILIPPINES                           5000\n",
       "LAO PEOPLE'S DEMOCRATIC REPUBLIC      5000\n",
       "CHINA                                 5000\n",
       "VIET NAM                              5000\n",
       "UNITED STATES OF AMERICA              4272\n",
       "TAIWAN, PROVINCE OF CHINA             2496\n",
       "MALAYSIA                              2034\n",
       "SRI LANKA                             2011\n",
       "NICARAGUA                             1986\n",
       "EL SALVADOR                           1942\n",
       "VENEZUELA (BOLIVARIAN REPUBLIC OF)    1787\n",
       "BRAZIL                                1041\n",
       "INDONESIA                              946\n",
       "CUBA                                   422\n",
       "PANAMA                                 349\n",
       "SINGAPORE                              314\n",
       "ARGENTINA                              129\n",
       "MYANMAR                                116\n",
       "TIMOR-LESTE                            105\n",
       "PUERTO RICO                             89\n",
       "COLOMBIA                                87\n",
       "DOMINICAN REPUBLIC                      80\n",
       "JAMAICA                                 79\n",
       "HONDURAS                                74\n",
       "MEXICO                                  71\n",
       "FIJI                                    71\n",
       "ANTIGUA AND BARBUDA                     69\n",
       "SAINT KITTS AND NEVIS                   69\n",
       "                                      ... \n",
       "NEW ZEALAND                             35\n",
       "NIUE                                    34\n",
       "ARUBA                                   33\n",
       "MICRONESIA (FEDERATED STATES OF)        32\n",
       "TUVALU                                  31\n",
       "KIRIBATI                                30\n",
       "GUAM                                    30\n",
       "SAMOA                                   30\n",
       "PALAU                                   29\n",
       "HAITI                                   26\n",
       "BRUNEI DARUSSALAM                       25\n",
       "URUGUAY                                 24\n",
       "CHILE                                   22\n",
       "NAURU                                   22\n",
       "SOLOMON ISLANDS                         21\n",
       "HONG KONG                               20\n",
       "MONGOLIA                                19\n",
       "JAPAN                                   19\n",
       "MACAO                                   19\n",
       "WALLIS AND FUTUNA                       19\n",
       "TOKELAU                                 18\n",
       "CURAÇAO                                 17\n",
       "NORTHERN MARIANA ISLANDS                16\n",
       "KOREA (REPUBLIC OF)                     15\n",
       "PAPUA NEW GUINEA                        10\n",
       "SAINT MARTIN (FRENCH PART)               8\n",
       "PITCAIRN                                 8\n",
       "SAINT BARTHÉLEMY                         8\n",
       "CANADA                                   4\n",
       "SAUDI ARABIA                             2\n",
       "Name: CountryName, Length: 98, dtype: int64"
      ]
     },
     "execution_count": 46,
     "metadata": {},
     "output_type": "execute_result"
    }
   ],
   "source": [
    "dengue.CountryName.value_counts()"
   ]
  },
  {
   "cell_type": "code",
   "execution_count": 48,
   "metadata": {},
   "outputs": [],
   "source": [
    "japan = dengue[dengue.CountryName == 'JAPAN']"
   ]
  },
  {
   "cell_type": "code",
   "execution_count": 49,
   "metadata": {},
   "outputs": [
    {
     "data": {
      "text/plain": [
       "PeriodEndDate\n",
       "1999-12-31      9.0\n",
       "2000-12-31     36.0\n",
       "2001-12-31     57.0\n",
       "2002-12-31     52.0\n",
       "2003-12-31     32.0\n",
       "2004-12-31     49.0\n",
       "2005-12-31     74.0\n",
       "2006-12-31     58.0\n",
       "2007-12-31     89.0\n",
       "2008-12-31    101.0\n",
       "2009-12-31     92.0\n",
       "2010-12-31    145.0\n",
       "Name: CountValue, dtype: float64"
      ]
     },
     "execution_count": 49,
     "metadata": {},
     "output_type": "execute_result"
    }
   ],
   "source": [
    "japan.groupby(by='PeriodEndDate')['CountValue'].sum()"
   ]
  },
  {
   "cell_type": "code",
   "execution_count": 60,
   "metadata": {},
   "outputs": [
    {
     "data": {
      "text/plain": [
       "'2002-12-31'"
      ]
     },
     "execution_count": 60,
     "metadata": {},
     "output_type": "execute_result"
    }
   ],
   "source": [
    "dengue.groupby(by='PeriodEndDate')['CountValue'].sum().idxmax()"
   ]
  },
  {
   "cell_type": "code",
   "execution_count": null,
   "metadata": {},
   "outputs": [],
   "source": []
  }
 ],
 "metadata": {
  "kernelspec": {
   "display_name": "Python [default]",
   "language": "python",
   "name": "python3"
  },
  "language_info": {
   "codemirror_mode": {
    "name": "ipython",
    "version": 3
   },
   "file_extension": ".py",
   "mimetype": "text/x-python",
   "name": "python",
   "nbconvert_exporter": "python",
   "pygments_lexer": "ipython3",
   "version": "3.6.5"
  }
 },
 "nbformat": 4,
 "nbformat_minor": 2
}
