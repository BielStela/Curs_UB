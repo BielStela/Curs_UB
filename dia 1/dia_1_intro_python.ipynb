{
 "cells": [
  {
   "cell_type": "code",
   "execution_count": 1,
   "metadata": {},
   "outputs": [
    {
     "name": "stdout",
     "output_type": "stream",
     "text": [
      "Hello World!\n"
     ]
    }
   ],
   "source": [
    "print('Hello World!')"
   ]
  },
  {
   "cell_type": "markdown",
   "metadata": {},
   "source": [
    "# Python Introduction\n",
    "\n",
    "## Python?\n",
    "\n",
    "\n",
    "Python is an interpreted, high level and general purpose programming language. Python has dynamic types and it is multiparadigm.\n",
    "\n",
    "### What does all this mean?\n",
    "\n",
    "#### Interpreted vs compilated\n",
    "\n",
    "En lleguatges compilats, per fer un programa, primer s'escriu el codi en un editor de text i després, amb un altre programa (el compilador), s'interpreta el text pla i es transforma a llenguatge de màquina (o codi binari). Aquest conté totes les instruccions traduïdes al llenguatge natural pel processador (el llenguatge amb el qual ha estat ideat per funcionar). Els llenguatges compilats encara són útils i cobreixen un gran nombre de necessitats com per exemple computació d'alt rendiment.\n",
    "\n",
    "En canvi, en els llenguatges interpretats, les instruccions són interpretades de manera directa i lliure sense ser prèviament compilades a llenguatge de màquina. L'intèrpret executa el programa traduint cada declaració a seqüències de subrutines (programes petits) que ja han estat compilats a llenguatge de màquina.\n",
    "\n",
    "```python\n",
    "a = 2           #---------> Interpreter --------> memory location 0x001 = assign.exe (2)                                     \n",
    "b = 7           #---------> Interpreter --------> memory location 0x002 = assign.exe (7)                                            \n",
    "result = a * b  #---------> Interpreter --------> result in 0x003 = multiply.exe (0x001, 0x002)\n",
    "```\n",
    "\\*  <sub>L'exemple anterior es purament orientatiu i no reflecteix el funcionament de l'interpret de Python. I no, les subrutines no son .exe</sub>\n",
    "\n",
    "Com a conseqüència, podem visualitzar la sortida del programa sobre la marxa, com aquí:"
   ]
  },
  {
   "cell_type": "code",
   "execution_count": 11,
   "metadata": {},
   "outputs": [
    {
     "name": "stdout",
     "output_type": "stream",
     "text": [
      "  2           0 LOAD_CONST               0 (2)\n",
      "              2 STORE_NAME               0 (a)\n",
      "\n",
      "  3           4 LOAD_CONST               1 (7)\n",
      "              6 STORE_NAME               1 (b)\n",
      "\n",
      "  4           8 LOAD_NAME                0 (a)\n",
      "             10 LOAD_NAME                1 (b)\n",
      "             12 BINARY_MULTIPLY\n",
      "             14 STORE_NAME               2 (result)\n",
      "             16 LOAD_CONST               2 (None)\n",
      "             18 RETURN_VALUE\n"
     ]
    }
   ],
   "source": [
    "import dis\n",
    "op = '''\n",
    "a = 2\n",
    "b = 7\n",
    "result = a * b\n",
    "'''\n",
    "\n",
    "dis.dis(op)"
   ]
  },
  {
   "cell_type": "code",
   "execution_count": 12,
   "metadata": {},
   "outputs": [],
   "source": [
    "import numpy as np"
   ]
  },
  {
   "cell_type": "code",
   "execution_count": 13,
   "metadata": {},
   "outputs": [
    {
     "name": "stdout",
     "output_type": "stream",
     "text": [
      "  1           0 LOAD_NAME                0 (np)\n",
      "              2 LOAD_ATTR                1 (arange)\n",
      "              4 LOAD_CONST               0 (10)\n",
      "              6 CALL_FUNCTION            1\n",
      "              8 RETURN_VALUE\n"
     ]
    }
   ],
   "source": [
    "dis.dis('np.arange(10)')"
   ]
  },
  {
   "cell_type": "markdown",
   "metadata": {},
   "source": [
    "#### Alt nivell vs baix nivell\n",
    "\n",
    "Vegem com s'implementaria la següent ordre en llenguatges de diferents nivells.\n",
    "\n",
    "> _per cada element de la seqüencia de rang tres (0,1,2), imprimeix el seu quadrat_\n",
    "\n",
    "Un llenguatge d'alt nivell és més semblant al llenguatge humà:\n",
    "\n",
    "```python\n",
    "for i in range(3):   \n",
    "    print(i**2)\n",
    "```\n",
    "\n",
    "Un llenguatge de baix nivell és més d'entendre per una persona poc entrenada:\n",
    "\n",
    "```C\n",
    "#include <stdio.h>\n",
    "\n",
    "void main(void) {\n",
    "    int i;\n",
    "    for(i=0; i<3; i++){\n",
    "        printf(\"%d \\n\", i*i);\n",
    "    }\n",
    "}\n",
    "```"
   ]
  },
  {
   "cell_type": "markdown",
   "metadata": {},
   "source": [
    "#### Tipatge dinàmic vs tipatge fort \n",
    "\n",
    "En programació, les dades han de ser d'un tipus definit. La representació en llenguatge de màquina de un nombre enter $1$ no és la mateixa que la de un nombre real $3.1416$. Normalment els tipus més comuns són:\n",
    "* integer (enter) = $2$ \n",
    "* signed integer (enter signat) = $-4$\n",
    "* floating point (nombre amb coma flotant) = $3.1415$\n",
    "* string (cadena) =  $\"hola \\  mon\"$\n",
    "\n",
    "En llenguatges tipats, com el C, les variables han de ser declarades amb el tipus que són i les funcions s'han de declarar amb el tipus que tornarán.\n",
    "\n",
    "Amb Python, gràcies a que l'interpret infereix el tipus de les dades, ens estalviam el tipatge. "
   ]
  },
  {
   "cell_type": "code",
   "execution_count": 43,
   "metadata": {},
   "outputs": [
    {
     "name": "stdout",
     "output_type": "stream",
     "text": [
      "0.9554140127388535\n"
     ]
    }
   ],
   "source": [
    "enter = 3\n",
    "real = 3.14\n",
    "resultat = enter / real\n",
    "print(resultat)"
   ]
  },
  {
   "cell_type": "markdown",
   "metadata": {},
   "source": [
    "#### Paradigmes de programació?\n",
    "\n",
    "* programaciö orientada a objectes\n",
    "* imperativa\n",
    "* funcional\n",
    "\n",
    "[...]"
   ]
  },
  {
   "cell_type": "markdown",
   "metadata": {},
   "source": [
    "## Types\n",
    "\n",
    "To know the type of the variable we can use the function `type()`"
   ]
  },
  {
   "cell_type": "code",
   "execution_count": 3,
   "metadata": {},
   "outputs": [
    {
     "data": {
      "text/plain": [
       "int"
      ]
     },
     "execution_count": 3,
     "metadata": {},
     "output_type": "execute_result"
    }
   ],
   "source": [
    "type(1)"
   ]
  },
  {
   "cell_type": "code",
   "execution_count": 4,
   "metadata": {},
   "outputs": [
    {
     "data": {
      "text/plain": [
       "float"
      ]
     },
     "execution_count": 4,
     "metadata": {},
     "output_type": "execute_result"
    }
   ],
   "source": [
    "type(3.1415)"
   ]
  },
  {
   "cell_type": "code",
   "execution_count": 5,
   "metadata": {},
   "outputs": [
    {
     "data": {
      "text/plain": [
       "str"
      ]
     },
     "execution_count": 5,
     "metadata": {},
     "output_type": "execute_result"
    }
   ],
   "source": [
    "type('whatIam')"
   ]
  },
  {
   "cell_type": "code",
   "execution_count": 45,
   "metadata": {},
   "outputs": [
    {
     "data": {
      "text/plain": [
       "int"
      ]
     },
     "execution_count": 45,
     "metadata": {},
     "output_type": "execute_result"
    }
   ],
   "source": [
    "var = 0\n",
    "type(var)"
   ]
  },
  {
   "cell_type": "markdown",
   "metadata": {},
   "source": [
    "## Asignació de variables"
   ]
  },
  {
   "cell_type": "code",
   "execution_count": 46,
   "metadata": {},
   "outputs": [
    {
     "name": "stdout",
     "output_type": "stream",
     "text": [
      "...?\n"
     ]
    }
   ],
   "source": [
    "a = 'hola'\n",
    "a2 = 'hola de nou'\n",
    "a_b = '...?'\n",
    "n = 7\n",
    "\n",
    "print(a_b)"
   ]
  },
  {
   "cell_type": "code",
   "execution_count": 47,
   "metadata": {},
   "outputs": [
    {
     "data": {
      "text/plain": [
       "'hola'"
      ]
     },
     "execution_count": 47,
     "metadata": {},
     "output_type": "execute_result"
    }
   ],
   "source": [
    "a"
   ]
  },
  {
   "cell_type": "code",
   "execution_count": 7,
   "metadata": {},
   "outputs": [
    {
     "ename": "SyntaxError",
     "evalue": "invalid syntax (<ipython-input-7-a0f30a488386>, line 1)",
     "output_type": "error",
     "traceback": [
      "\u001b[1;36m  File \u001b[1;32m\"<ipython-input-7-a0f30a488386>\"\u001b[1;36m, line \u001b[1;32m1\u001b[0m\n\u001b[1;33m    a is global b\u001b[0m\n\u001b[1;37m              ^\u001b[0m\n\u001b[1;31mSyntaxError\u001b[0m\u001b[1;31m:\u001b[0m invalid syntax\n"
     ]
    }
   ],
   "source": []
  },
  {
   "cell_type": "markdown",
   "metadata": {},
   "source": [
    "Si usam un nom de variable ilegal obtenim un `SyntaxError`. En l'exemple de anterior, la paraula `class` és una keyword de python. Les keywords formen part del propi funcionament del llenguatge i per tant, no les podem assignar.\n",
    "\n",
    "```python\n",
    "\n",
    "False    class      finally    is         return\n",
    "None     continue   for        lambda     try\n",
    "True     def        from       nonlocal   while\n",
    "and      del        global     not        with\n",
    "as       elif       if         or         yield\n",
    "assert   else       import     pass\n",
    "break    except     in         raise\n",
    "```"
   ]
  },
  {
   "cell_type": "code",
   "execution_count": 49,
   "metadata": {},
   "outputs": [
    {
     "data": {
      "text/plain": [
       "str"
      ]
     },
     "execution_count": 49,
     "metadata": {},
     "output_type": "execute_result"
    }
   ],
   "source": [
    "type(a)"
   ]
  },
  {
   "cell_type": "markdown",
   "metadata": {},
   "source": [
    "## Operators"
   ]
  },
  {
   "cell_type": "markdown",
   "metadata": {},
   "source": [
    "+ sumation: `+`\n",
    "+ rest: `-`\n",
    "+ multiplication: `*`\n",
    "+ division (always return flot): `/`\n",
    "+ floor division (for int): `//`\n",
    "+ exponentiation: `**`\n",
    "+ modulus operator (or remainder): `%`\n",
    "\n",
    "When use with numeric types they behave like normal math operations"
   ]
  },
  {
   "cell_type": "code",
   "execution_count": 2,
   "metadata": {},
   "outputs": [
    {
     "data": {
      "text/plain": [
       "6.0"
      ]
     },
     "execution_count": 2,
     "metadata": {},
     "output_type": "execute_result"
    }
   ],
   "source": [
    "3*(4/2)"
   ]
  },
  {
   "cell_type": "code",
   "execution_count": 3,
   "metadata": {},
   "outputs": [
    {
     "data": {
      "text/plain": [
       "1.1666666666666667"
      ]
     },
     "execution_count": 3,
     "metadata": {},
     "output_type": "execute_result"
    }
   ],
   "source": [
    "7/6"
   ]
  },
  {
   "cell_type": "code",
   "execution_count": 4,
   "metadata": {
    "slideshow": {
     "slide_type": "-"
    }
   },
   "outputs": [
    {
     "data": {
      "text/plain": [
       "1"
      ]
     },
     "execution_count": 4,
     "metadata": {},
     "output_type": "execute_result"
    }
   ],
   "source": [
    "7//6"
   ]
  },
  {
   "cell_type": "code",
   "execution_count": null,
   "metadata": {},
   "outputs": [],
   "source": []
  },
  {
   "cell_type": "code",
   "execution_count": null,
   "metadata": {},
   "outputs": [],
   "source": []
  },
  {
   "cell_type": "markdown",
   "metadata": {},
   "source": [
    "The modulus operator returns the remainder of the division. \n",
    "\n",
    "`3 / 4 = 0` remainder `3`\n",
    "\n",
    "`3 % 4 = 3`\n",
    "\n",
    "It also can be understood as clock arithmetic. For example, the hours of a clock are in modulo 12.\n",
    "\n",
    "<img src=\"https://proxy.duckduckgo.com/iu/?u=http%3A%2F%2Flatex.artofproblemsolving.com%2Ff%2F4%2Fd%2Ff4daa2601de14fddf3d8441e16cc322a25e85354.png&f=1\" alt=\"Drawing\" style=\"width: 200px;\"/>"
   ]
  },
  {
   "cell_type": "code",
   "execution_count": 6,
   "metadata": {},
   "outputs": [
    {
     "data": {
      "text/plain": [
       "2"
      ]
     },
     "execution_count": 6,
     "metadata": {},
     "output_type": "execute_result"
    }
   ],
   "source": [
    "14 % 12 "
   ]
  },
  {
   "cell_type": "markdown",
   "metadata": {},
   "source": [
    "**Important!**: When the modulus operator returns 0 means that the number is divisible! "
   ]
  },
  {
   "cell_type": "code",
   "execution_count": 9,
   "metadata": {},
   "outputs": [
    {
     "name": "stdout",
     "output_type": "stream",
     "text": [
      "0\n",
      "2\n"
     ]
    }
   ],
   "source": [
    "print(25 % 5)\n",
    "print(12 % 5)"
   ]
  },
  {
   "cell_type": "markdown",
   "metadata": {},
   "source": [
    "## String operations\n",
    "\n",
    "We cannot perform math operation with string. But we can use `+` and `*` with strings!"
   ]
  },
  {
   "cell_type": "markdown",
   "metadata": {},
   "source": [
    "`+` performs string concatenation. But wait! when we use `+` with strings it does not work like normal math addition: it doesn't have the conmutative property!"
   ]
  },
  {
   "cell_type": "code",
   "execution_count": 13,
   "metadata": {},
   "outputs": [
    {
     "data": {
      "text/plain": [
       "'summe'"
      ]
     },
     "execution_count": 13,
     "metadata": {},
     "output_type": "execute_result"
    }
   ],
   "source": [
    "'sum' + 'me'"
   ]
  },
  {
   "cell_type": "code",
   "execution_count": 54,
   "metadata": {},
   "outputs": [
    {
     "data": {
      "text/plain": [
       "True"
      ]
     },
     "execution_count": 54,
     "metadata": {},
     "output_type": "execute_result"
    }
   ],
   "source": [
    "2 + 3 == 3 + 2"
   ]
  },
  {
   "cell_type": "code",
   "execution_count": 55,
   "metadata": {},
   "outputs": [
    {
     "data": {
      "text/plain": [
       "False"
      ]
     },
     "execution_count": 55,
     "metadata": {},
     "output_type": "execute_result"
    }
   ],
   "source": [
    "'sum' + 'me' == 'me' + 'sum'"
   ]
  },
  {
   "cell_type": "markdown",
   "metadata": {},
   "source": [
    "`*` performs string repetition (by a number)"
   ]
  },
  {
   "cell_type": "code",
   "execution_count": 56,
   "metadata": {},
   "outputs": [
    {
     "data": {
      "text/plain": [
       "'multyply me! multyply me! '"
      ]
     },
     "execution_count": 56,
     "metadata": {},
     "output_type": "execute_result"
    }
   ],
   "source": [
    "'multyply me! ' * 2"
   ]
  },
  {
   "cell_type": "markdown",
   "metadata": {},
   "source": [
    "# Functions\n",
    "We already used a functions! \n",
    "\n",
    "`type()` is a function named `type` and the stuff inside tha parenthesis are the **arguments**.\n",
    "This function returns the type of the argument.\n",
    "\n",
    "Functions can be interpreted like in math:\n",
    "$$f(x) = \\mathtt{type}(x) $$\n",
    "$$ f: x \\longrightarrow y$$\n",
    "\n",
    "Where $x$ is the argument and $y$ the **returned value** (in this case. $y$ is the type of the $x$)."
   ]
  },
  {
   "cell_type": "code",
   "execution_count": 59,
   "metadata": {},
   "outputs": [
    {
     "data": {
      "text/plain": [
       "7"
      ]
     },
     "execution_count": 59,
     "metadata": {},
     "output_type": "execute_result"
    }
   ],
   "source": [
    "a = int(7.9898)\n",
    "a"
   ]
  },
  {
   "cell_type": "code",
   "execution_count": 61,
   "metadata": {},
   "outputs": [
    {
     "data": {
      "text/plain": [
       "'3.141592...to infinity!'"
      ]
     },
     "execution_count": 61,
     "metadata": {},
     "output_type": "execute_result"
    }
   ],
   "source": [
    "str(3.141592) + '...to infinity!'"
   ]
  },
  {
   "cell_type": "markdown",
   "metadata": {},
   "source": [
    "## Math functions\n",
    "Python haves thousands of implemented functions. But not all of them are in the base Python.\n",
    "We have to use `import` to **load** more functionalities like the Math module:"
   ]
  },
  {
   "cell_type": "code",
   "execution_count": 62,
   "metadata": {},
   "outputs": [],
   "source": [
    "import math"
   ]
  },
  {
   "cell_type": "markdown",
   "metadata": {},
   "source": [
    "`math` is a module from the **standart library**. This means that it is available within the Python installation. To use all the standart modules there is no need to install anything else than Python itself. \n",
    "\n",
    "We only need to load them with the `import` keyword followed by the name of the module.\n",
    "\n",
    "To implement the function \n",
    "\n",
    "$$ f(x) = \\sqrt{x} $$\n",
    "\n",
    "We do:"
   ]
  },
  {
   "cell_type": "code",
   "execution_count": 22,
   "metadata": {},
   "outputs": [
    {
     "data": {
      "text/plain": [
       "3.1622776601683795"
      ]
     },
     "execution_count": 22,
     "metadata": {},
     "output_type": "execute_result"
    }
   ],
   "source": [
    "math.sqrt(10)"
   ]
  },
  {
   "cell_type": "markdown",
   "metadata": {},
   "source": [
    "Notice the notation `math.sqrt()`. After loading the module math it becomes and `Object` and we can acces the object functions with the `.` notation"
   ]
  },
  {
   "cell_type": "code",
   "execution_count": 23,
   "metadata": {},
   "outputs": [
    {
     "data": {
      "text/plain": [
       "3.141592653589793"
      ]
     },
     "execution_count": 23,
     "metadata": {},
     "output_type": "execute_result"
    }
   ],
   "source": [
    "math.pi"
   ]
  },
  {
   "cell_type": "markdown",
   "metadata": {},
   "source": [
    "## User defined functions\n",
    "\n",
    "to define a new function we use `def` followed by the name of the function and parenthesis:"
   ]
  },
  {
   "cell_type": "code",
   "execution_count": 63,
   "metadata": {},
   "outputs": [],
   "source": [
    "def my_function():\n",
    "    print('yay! I made this!')"
   ]
  },
  {
   "cell_type": "markdown",
   "metadata": {},
   "source": [
    "Now wen we call our function the sequence of statements inside the function will run"
   ]
  },
  {
   "cell_type": "code",
   "execution_count": 64,
   "metadata": {},
   "outputs": [
    {
     "name": "stdout",
     "output_type": "stream",
     "text": [
      "yay! I made this!\n"
     ]
    }
   ],
   "source": [
    "my_function()"
   ]
  },
  {
   "cell_type": "markdown",
   "metadata": {},
   "source": [
    "functions also take parameters like:\n",
    "$$ f(a, b) = a + b$$"
   ]
  },
  {
   "cell_type": "code",
   "execution_count": 75,
   "metadata": {},
   "outputs": [
    {
     "data": {
      "text/plain": [
       "5"
      ]
     },
     "execution_count": 75,
     "metadata": {},
     "output_type": "execute_result"
    }
   ],
   "source": [
    "def add(a, b):\n",
    "    miau = a + b\n",
    "    return miau\n",
    "\n",
    "add(2, 3)"
   ]
  },
  {
   "cell_type": "markdown",
   "metadata": {},
   "source": [
    "Python can accept other functions as argument:"
   ]
  },
  {
   "cell_type": "code",
   "execution_count": 66,
   "metadata": {},
   "outputs": [
    {
     "data": {
      "text/plain": [
       "5.302585092994046"
      ]
     },
     "execution_count": 66,
     "metadata": {},
     "output_type": "execute_result"
    }
   ],
   "source": [
    "add(math.log(10), int(3.141592))"
   ]
  },
  {
   "cell_type": "markdown",
   "metadata": {},
   "source": [
    "Variables inside functions are **local**. This means that they only exists inside the function:"
   ]
  },
  {
   "cell_type": "code",
   "execution_count": 77,
   "metadata": {},
   "outputs": [],
   "source": [
    "def hide_something():\n",
    "    secret = 2+5"
   ]
  },
  {
   "cell_type": "code",
   "execution_count": 78,
   "metadata": {},
   "outputs": [],
   "source": [
    "hide_something()"
   ]
  },
  {
   "cell_type": "code",
   "execution_count": 79,
   "metadata": {},
   "outputs": [
    {
     "ename": "NameError",
     "evalue": "name 'secret' is not defined",
     "output_type": "error",
     "traceback": [
      "\u001b[1;31m---------------------------------------------------------------------------\u001b[0m",
      "\u001b[1;31mNameError\u001b[0m                                 Traceback (most recent call last)",
      "\u001b[1;32m<ipython-input-79-fc683cd9ed19>\u001b[0m in \u001b[0;36m<module>\u001b[1;34m()\u001b[0m\n\u001b[1;32m----> 1\u001b[1;33m \u001b[0msecret\u001b[0m\u001b[1;33m\u001b[0m\u001b[0m\n\u001b[0m",
      "\u001b[1;31mNameError\u001b[0m: name 'secret' is not defined"
     ]
    }
   ],
   "source": [
    "secret"
   ]
  },
  {
   "cell_type": "code",
   "execution_count": 82,
   "metadata": {},
   "outputs": [],
   "source": [
    "def add(a, b):\n",
    "    result = a + b\n",
    "    return result + 1"
   ]
  },
  {
   "cell_type": "code",
   "execution_count": 83,
   "metadata": {},
   "outputs": [
    {
     "data": {
      "text/plain": [
       "11"
      ]
     },
     "execution_count": 83,
     "metadata": {},
     "output_type": "execute_result"
    }
   ],
   "source": [
    "res = add(3, 7)\n",
    "res"
   ]
  },
  {
   "cell_type": "markdown",
   "metadata": {},
   "source": [
    "Python function can also return other functions!"
   ]
  },
  {
   "cell_type": "code",
   "execution_count": 34,
   "metadata": {},
   "outputs": [],
   "source": [
    "def twice(nom):\n",
    "    print(nom)\n",
    "    print(nom)"
   ]
  },
  {
   "cell_type": "code",
   "execution_count": 84,
   "metadata": {},
   "outputs": [
    {
     "name": "stdout",
     "output_type": "stream",
     "text": [
      "HEY!\n",
      "HEY!\n"
     ]
    }
   ],
   "source": [
    "twice('HEY!')"
   ]
  },
  {
   "cell_type": "code",
   "execution_count": 85,
   "metadata": {},
   "outputs": [
    {
     "name": "stdout",
     "output_type": "stream",
     "text": [
      "HEY! HEY! HEY! HEY! HEY! HEY! \n",
      "HEY! HEY! HEY! HEY! HEY! HEY! \n"
     ]
    }
   ],
   "source": [
    "twice('HEY! '*6)"
   ]
  },
  {
   "cell_type": "code",
   "execution_count": 86,
   "metadata": {},
   "outputs": [],
   "source": [
    "def hey_twice(part1, part2):\n",
    "    heys = part1 + part2\n",
    "    twice(heys)"
   ]
  },
  {
   "cell_type": "code",
   "execution_count": 87,
   "metadata": {},
   "outputs": [
    {
     "name": "stdout",
     "output_type": "stream",
     "text": [
      "HEY! hey?\n",
      "HEY! hey?\n"
     ]
    }
   ],
   "source": [
    "hey_twice('HEY! ', 'hey?')"
   ]
  },
  {
   "cell_type": "markdown",
   "metadata": {},
   "source": [
    "but remember that `heys` variable only exists when function is executed! after that it is destroyed."
   ]
  },
  {
   "cell_type": "markdown",
   "metadata": {},
   "source": [
    "<div class=\"alert alert-danger\">\n",
    "**WARNING: RECURSION ZONE** \n",
    "The following concept can be hard understand.\n",
    "</div>\n",
    "\n",
    "Recursion is when fuctions call themself inside! ( ͡° ͜ʖ ͡°)\n",
    "\n",
    "For example the factorial of a number ($n!$) is:\n",
    "$$n! = 1 · 2 · 3\\dots(n-2)·(n-1)·n$$\n",
    "or \n",
    "$$n! = n(n-1)(n-2)\\dots2·1$$\n",
    "which is the same as:\n",
    "$$n! = n(n-1)!$$\n",
    "\n",
    "for example:\n",
    "\n",
    "$$5! = 5·4·3·2·1$$ \n",
    "since $4! = 4·3·2·1$:\n",
    "$$5! = 5·4!$$\n"
   ]
  },
  {
   "cell_type": "code",
   "execution_count": 39,
   "metadata": {},
   "outputs": [],
   "source": [
    "def factorial(n):\n",
    "    if n == 0:\n",
    "        return 1\n",
    "    else:\n",
    "        return n * factorial(n - 1)"
   ]
  },
  {
   "cell_type": "code",
   "execution_count": 91,
   "metadata": {},
   "outputs": [
    {
     "data": {
      "text/plain": [
       "24"
      ]
     },
     "execution_count": 91,
     "metadata": {},
     "output_type": "execute_result"
    }
   ],
   "source": [
    "factorial(4)"
   ]
  },
  {
   "cell_type": "markdown",
   "metadata": {},
   "source": [
    "Another example:"
   ]
  },
  {
   "cell_type": "code",
   "execution_count": 6,
   "metadata": {},
   "outputs": [],
   "source": [
    "def countdown(n):\n",
    "    if n <= 0:\n",
    "        print('Liftoff!')\n",
    "    else:\n",
    "        print(n)\n",
    "        countdown(n-1)"
   ]
  },
  {
   "cell_type": "code",
   "execution_count": 7,
   "metadata": {},
   "outputs": [
    {
     "name": "stdout",
     "output_type": "stream",
     "text": [
      "10\n",
      "9\n",
      "8\n",
      "7\n",
      "6\n",
      "5\n",
      "4\n",
      "3\n",
      "2\n",
      "1\n",
      "Liftoff!\n"
     ]
    }
   ],
   "source": [
    "countdown(10)"
   ]
  },
  {
   "cell_type": "markdown",
   "metadata": {},
   "source": [
    "<div class=\"alert alert-success\">\n",
    "**END OF RECURSION ZONE** \n",
    "</div>"
   ]
  },
  {
   "cell_type": "markdown",
   "metadata": {},
   "source": [
    "### Lambda functions\n",
    "\n",
    "lambda funtions are like normal function without name:"
   ]
  },
  {
   "cell_type": "code",
   "execution_count": 9,
   "metadata": {},
   "outputs": [
    {
     "data": {
      "text/plain": [
       "<function __main__.<lambda>>"
      ]
     },
     "execution_count": 9,
     "metadata": {},
     "output_type": "execute_result"
    }
   ],
   "source": [
    "func = lambda x: x ** 2\n",
    "func"
   ]
  },
  {
   "cell_type": "code",
   "execution_count": 10,
   "metadata": {},
   "outputs": [
    {
     "data": {
      "text/plain": [
       "<function __main__.func_name>"
      ]
     },
     "execution_count": 10,
     "metadata": {},
     "output_type": "execute_result"
    }
   ],
   "source": [
    "def func_with_name(x):\n",
    "    return x**2\n",
    "func_name"
   ]
  },
  {
   "cell_type": "markdown",
   "metadata": {},
   "source": [
    "Lambda functions will be very handy when working with tables and mappings."
   ]
  },
  {
   "cell_type": "markdown",
   "metadata": {},
   "source": [
    "# Conditionals\n",
    "\n",
    "Conditionals are used to control the workflow of the program. For example the `if` statement.\n",
    "In pseudo language it can be understood as:\n",
    "\n",
    "```\n",
    "IF condition == TRUE then DO:\n",
    "    something\n",
    "```\n",
    "## Boolean expressions\n",
    "\n",
    "A boolean expression is an expression that is either true or false. The following examples\n",
    "use the operator `==`, which compares two operands and produces `True` if they are equal\n",
    "and `False` otherwise:"
   ]
  },
  {
   "cell_type": "code",
   "execution_count": 11,
   "metadata": {},
   "outputs": [
    {
     "data": {
      "text/plain": [
       "True"
      ]
     },
     "execution_count": 11,
     "metadata": {},
     "output_type": "execute_result"
    }
   ],
   "source": [
    "2 == 2"
   ]
  },
  {
   "cell_type": "code",
   "execution_count": 12,
   "metadata": {},
   "outputs": [
    {
     "data": {
      "text/plain": [
       "False"
      ]
     },
     "execution_count": 12,
     "metadata": {},
     "output_type": "execute_result"
    }
   ],
   "source": [
    "2 == 1714"
   ]
  },
  {
   "cell_type": "code",
   "execution_count": 13,
   "metadata": {},
   "outputs": [
    {
     "data": {
      "text/plain": [
       "True"
      ]
     },
     "execution_count": 13,
     "metadata": {},
     "output_type": "execute_result"
    }
   ],
   "source": [
    "'uh' == 'uh'"
   ]
  },
  {
   "cell_type": "code",
   "execution_count": 15,
   "metadata": {},
   "outputs": [
    {
     "data": {
      "text/plain": [
       "False"
      ]
     },
     "execution_count": 15,
     "metadata": {},
     "output_type": "execute_result"
    }
   ],
   "source": [
    "'uh' == 'uha'"
   ]
  },
  {
   "cell_type": "code",
   "execution_count": 16,
   "metadata": {},
   "outputs": [
    {
     "data": {
      "text/plain": [
       "bool"
      ]
     },
     "execution_count": 16,
     "metadata": {},
     "output_type": "execute_result"
    }
   ],
   "source": [
    "type(True)"
   ]
  },
  {
   "cell_type": "markdown",
   "metadata": {},
   "source": [
    "The `==` operator is one of the relational operators; the others are:"
   ]
  },
  {
   "cell_type": "code",
   "execution_count": 17,
   "metadata": {},
   "outputs": [
    {
     "data": {
      "text/plain": [
       "True"
      ]
     },
     "execution_count": 17,
     "metadata": {},
     "output_type": "execute_result"
    }
   ],
   "source": [
    "3 != 5"
   ]
  },
  {
   "cell_type": "code",
   "execution_count": 18,
   "metadata": {},
   "outputs": [
    {
     "data": {
      "text/plain": [
       "True"
      ]
     },
     "execution_count": 18,
     "metadata": {},
     "output_type": "execute_result"
    }
   ],
   "source": [
    "5 > 3"
   ]
  },
  {
   "cell_type": "code",
   "execution_count": 19,
   "metadata": {},
   "outputs": [
    {
     "data": {
      "text/plain": [
       "True"
      ]
     },
     "execution_count": 19,
     "metadata": {},
     "output_type": "execute_result"
    }
   ],
   "source": [
    "3 < 5"
   ]
  },
  {
   "cell_type": "code",
   "execution_count": 22,
   "metadata": {},
   "outputs": [
    {
     "data": {
      "text/plain": [
       "True"
      ]
     },
     "execution_count": 22,
     "metadata": {},
     "output_type": "execute_result"
    }
   ],
   "source": [
    "3.1 >= 3"
   ]
  },
  {
   "cell_type": "code",
   "execution_count": 23,
   "metadata": {},
   "outputs": [
    {
     "data": {
      "text/plain": [
       "True"
      ]
     },
     "execution_count": 23,
     "metadata": {},
     "output_type": "execute_result"
    }
   ],
   "source": [
    "2.9 <= 3"
   ]
  },
  {
   "cell_type": "markdown",
   "metadata": {},
   "source": [
    "Remember that `=` is an assignment operator and `==` is a relational\n",
    "operator. There is no such thing as `=<` or `=>`"
   ]
  },
  {
   "cell_type": "code",
   "execution_count": 24,
   "metadata": {},
   "outputs": [
    {
     "ename": "SyntaxError",
     "evalue": "invalid syntax (<ipython-input-24-a88ce231611b>, line 1)",
     "output_type": "error",
     "traceback": [
      "\u001b[1;36m  File \u001b[1;32m\"<ipython-input-24-a88ce231611b>\"\u001b[1;36m, line \u001b[1;32m1\u001b[0m\n\u001b[1;33m    2 =< 3\u001b[0m\n\u001b[1;37m       ^\u001b[0m\n\u001b[1;31mSyntaxError\u001b[0m\u001b[1;31m:\u001b[0m invalid syntax\n"
     ]
    }
   ],
   "source": [
    "2 =< 3"
   ]
  },
  {
   "cell_type": "markdown",
   "metadata": {},
   "source": [
    "## Logical operators\n",
    "\n",
    "```python\n",
    "and\n",
    "or\n",
    "not\n",
    "```\n",
    "\n",
    "![imagen.png](attachment:imagen.png)\n",
    "\n",
    "for example:"
   ]
  },
  {
   "cell_type": "code",
   "execution_count": 25,
   "metadata": {},
   "outputs": [],
   "source": [
    "def test_and(x):\n",
    "    return x > 0 and x < 10"
   ]
  },
  {
   "cell_type": "code",
   "execution_count": 27,
   "metadata": {},
   "outputs": [
    {
     "name": "stdout",
     "output_type": "stream",
     "text": [
      "True\n",
      "False\n"
     ]
    }
   ],
   "source": [
    "print(test_and(5))\n",
    "print(test_and(12))"
   ]
  },
  {
   "cell_type": "code",
   "execution_count": 30,
   "metadata": {},
   "outputs": [],
   "source": [
    "def test_or(x):\n",
    "    '''\n",
    "    returns True if x is divisible by 2 or 3\n",
    "    or both\n",
    "    '''\n",
    "    return x%2 == 0 or x%3 == 0"
   ]
  },
  {
   "cell_type": "code",
   "execution_count": 32,
   "metadata": {},
   "outputs": [
    {
     "name": "stdout",
     "output_type": "stream",
     "text": [
      "False\n",
      "True\n"
     ]
    }
   ],
   "source": [
    "print(test_or(17))\n",
    "print(test_or(12))"
   ]
  },
  {
   "cell_type": "markdown",
   "metadata": {},
   "source": [
    "### Small exercise\n",
    "\n",
    "Implement the XOR operator using `and`, `not` and `or`.\n",
    "Remember that logical operators work with `bool` type, so the parameters \n",
    "must be logical operations"
   ]
  },
  {
   "cell_type": "code",
   "execution_count": 33,
   "metadata": {},
   "outputs": [],
   "source": [
    "def xor(a, b):\n",
    "    return (a and not b) or (not a and b)"
   ]
  },
  {
   "cell_type": "code",
   "execution_count": 37,
   "metadata": {},
   "outputs": [
    {
     "data": {
      "text/plain": [
       "True"
      ]
     },
     "execution_count": 37,
     "metadata": {},
     "output_type": "execute_result"
    }
   ],
   "source": [
    "xor(2>1, 1>2)"
   ]
  },
  {
   "cell_type": "markdown",
   "metadata": {},
   "source": [
    "### But what is `bool`?\n",
    "\n",
    "**In python the `bool` type is a subclass of `int`** that just contains 0 and 1. **False** is evaluated as 0  and **True** is evaluated as **1**.\n"
   ]
  },
  {
   "cell_type": "code",
   "execution_count": 45,
   "metadata": {},
   "outputs": [
    {
     "data": {
      "text/plain": [
       "True"
      ]
     },
     "execution_count": 45,
     "metadata": {},
     "output_type": "execute_result"
    }
   ],
   "source": [
    "False == 0"
   ]
  },
  {
   "cell_type": "code",
   "execution_count": 46,
   "metadata": {},
   "outputs": [
    {
     "data": {
      "text/plain": [
       "True"
      ]
     },
     "execution_count": 46,
     "metadata": {},
     "output_type": "execute_result"
    }
   ],
   "source": [
    "True == 1"
   ]
  },
  {
   "cell_type": "code",
   "execution_count": 48,
   "metadata": {},
   "outputs": [
    {
     "data": {
      "text/plain": [
       "3"
      ]
     },
     "execution_count": 48,
     "metadata": {},
     "output_type": "execute_result"
    }
   ],
   "source": [
    "True + True + True"
   ]
  },
  {
   "cell_type": "code",
   "execution_count": 49,
   "metadata": {},
   "outputs": [
    {
     "ename": "ZeroDivisionError",
     "evalue": "division by zero",
     "output_type": "error",
     "traceback": [
      "\u001b[1;31m---------------------------------------------------------------------------\u001b[0m",
      "\u001b[1;31mZeroDivisionError\u001b[0m                         Traceback (most recent call last)",
      "\u001b[1;32m<ipython-input-49-f8487d9d0863>\u001b[0m in \u001b[0;36m<module>\u001b[1;34m()\u001b[0m\n\u001b[1;32m----> 1\u001b[1;33m \u001b[1;32mTrue\u001b[0m \u001b[1;33m/\u001b[0m \u001b[1;32mFalse\u001b[0m\u001b[1;33m\u001b[0m\u001b[0m\n\u001b[0m",
      "\u001b[1;31mZeroDivisionError\u001b[0m: division by zero"
     ]
    }
   ],
   "source": [
    "True / False"
   ]
  },
  {
   "cell_type": "code",
   "execution_count": 14,
   "metadata": {},
   "outputs": [
    {
     "data": {
      "text/plain": [
       "0.0"
      ]
     },
     "execution_count": 14,
     "metadata": {},
     "output_type": "execute_result"
    }
   ],
   "source": [
    "False / True"
   ]
  },
  {
   "cell_type": "markdown",
   "metadata": {},
   "source": [
    "But Python is not very strict and **every nonzero** number is interpreted as `True`"
   ]
  },
  {
   "cell_type": "code",
   "execution_count": 44,
   "metadata": {},
   "outputs": [
    {
     "data": {
      "text/plain": [
       "True"
      ]
     },
     "execution_count": 44,
     "metadata": {},
     "output_type": "execute_result"
    }
   ],
   "source": [
    "1223 and True"
   ]
  },
  {
   "cell_type": "markdown",
   "metadata": {},
   "source": [
    "## Conditional execution\n",
    "In order to write useful programs, we almost always need the ability to check **conditions**\n",
    "and change the behavior of the program accordingly. Conditional statements give us this\n",
    "ability.\n",
    "\n",
    "`if` staments run the block (indented 4 spaces, like in functions) if the condition is evaluated to `True`.\n",
    "\n",
    "``` python\n",
    " \n",
    "#  {---} <- condition \n",
    "if x < 0:\n",
    "    # body. Runs if condition is True\n",
    "    pass\n",
    "```"
   ]
  },
  {
   "cell_type": "code",
   "execution_count": 2,
   "metadata": {},
   "outputs": [],
   "source": [
    "if -1 > 0:\n",
    "    print('x is positive')"
   ]
  },
  {
   "cell_type": "markdown",
   "metadata": {},
   "source": [
    "`if` staments are also usefull for **alternative execution**, in which there are two possi-\n",
    "bilities and the condition determines which one runs."
   ]
  },
  {
   "cell_type": "code",
   "execution_count": 5,
   "metadata": {},
   "outputs": [],
   "source": [
    "def is_odd(x):\n",
    "    '''\n",
    "    Checks if a number is odd or even\n",
    "    '''\n",
    "    if x % 2 == 0:\n",
    "        print('x is even')\n",
    "    else:\n",
    "        print('x is odd')"
   ]
  },
  {
   "cell_type": "code",
   "execution_count": 7,
   "metadata": {},
   "outputs": [
    {
     "name": "stdout",
     "output_type": "stream",
     "text": [
      "x is odd\n"
     ]
    }
   ],
   "source": [
    "is_odd(3)"
   ]
  },
  {
   "cell_type": "markdown",
   "metadata": {},
   "source": [
    "Sometimes there are more than two possibilities and we need more than two branches.\n",
    "One way to express a computation like that is a **chained conditional**:"
   ]
  },
  {
   "cell_type": "code",
   "execution_count": 1,
   "metadata": {},
   "outputs": [],
   "source": [
    "def is_betwen_0_10(x):\n",
    "    if x < 0:\n",
    "        print('x is less than 0!')\n",
    "    elif x > 10:\n",
    "        print('x is more than 10!')\n",
    "    else:\n",
    "        print('x is betwen 0 and 10')"
   ]
  },
  {
   "cell_type": "code",
   "execution_count": 3,
   "metadata": {},
   "outputs": [
    {
     "name": "stdout",
     "output_type": "stream",
     "text": [
      "x is more than 10!\n"
     ]
    }
   ],
   "source": [
    "is_betwen_0_10(11)"
   ]
  },
  {
   "cell_type": "markdown",
   "metadata": {},
   "source": [
    "Note that only the first `True` branch runs!"
   ]
  },
  {
   "cell_type": "markdown",
   "metadata": {},
   "source": [
    "Conditionals can also be **nested** within another:\n",
    "\n",
    "```python\n",
    "if x == y:\n",
    "    print('x and y are equal')\n",
    "else:\n",
    "    if x < y:\n",
    "        print('x is less than y')\n",
    "    else:\n",
    "        print('x is greater than y')\n",
    "```"
   ]
  },
  {
   "cell_type": "markdown",
   "metadata": {},
   "source": [
    "## *Exercise*\n",
    "\n",
    "+ Write a function that checks if a number is between 1~4 or 10~15"
   ]
  },
  {
   "cell_type": "code",
   "execution_count": null,
   "metadata": {},
   "outputs": [],
   "source": []
  },
  {
   "cell_type": "markdown",
   "metadata": {},
   "source": [
    "+   Fermat’s Last Theorem says that there are **no positive integers** $a$, $b$, and $c$ such that:\n",
    "\n",
    "$$ a^n + b^n = c^n$$\n",
    "\n",
    "for any values of $n$ greater than 2"
   ]
  },
  {
   "cell_type": "markdown",
   "metadata": {},
   "source": [
    "Write a function named `check_fermat` that takes four parameters —a, b, c and n— and\n",
    "checks to see if Fermat’s theorem holds. If $n$ is greater than 2 and\n",
    "$$a^n + b^n = c^n$$\n",
    "the program should print, “Holy shit, Fermat was wrong!” Otherwise the program should\n",
    "print, “No, that doesn’t work.”"
   ]
  },
  {
   "cell_type": "code",
   "execution_count": 28,
   "metadata": {},
   "outputs": [],
   "source": [
    "def check_fermat(a,b,c,n):\n",
    "    suma = a**n + b**n\n",
    "    if n>2 and (suma == c**n): \n",
    "        print('Holy molly! Fermat was wrong!!')\n",
    "    else:\n",
    "        print('we are not breaking mathematics today :_(')"
   ]
  },
  {
   "cell_type": "code",
   "execution_count": 29,
   "metadata": {},
   "outputs": [
    {
     "name": "stdout",
     "output_type": "stream",
     "text": [
      "we are not breaking mathematics today :_(\n"
     ]
    }
   ],
   "source": [
    "check_fermat(1,2,3,2)"
   ]
  },
  {
   "cell_type": "code",
   "execution_count": null,
   "metadata": {},
   "outputs": [],
   "source": []
  }
 ],
 "metadata": {
  "kernelspec": {
   "display_name": "Python [default]",
   "language": "python",
   "name": "python3"
  },
  "language_info": {
   "codemirror_mode": {
    "name": "ipython",
    "version": 3
   },
   "file_extension": ".py",
   "mimetype": "text/x-python",
   "name": "python",
   "nbconvert_exporter": "python",
   "pygments_lexer": "ipython3",
   "version": "3.6.4"
  }
 },
 "nbformat": 4,
 "nbformat_minor": 2
}
