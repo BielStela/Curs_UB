{
 "cells": [
  {
   "cell_type": "markdown",
   "metadata": {},
   "source": [
    "# Classes\n",
    "\n",
    ">Classes provide a means of bundling data and functionality together. Creating a new class creates a new type of object, allowing new instances of that type to be made. Each class instance can have attributes attached to it for maintaining its state. Class instances can also have methods (defined by its class) for modifying its state.\n",
    "\n",
    "[source](https://docs.python.org/3/tutorial/classes.html)"
   ]
  },
  {
   "cell_type": "code",
   "execution_count": 1,
   "metadata": {},
   "outputs": [],
   "source": [
    "class Human():\n",
    "    \n",
    "    kind = 'Human'  # class var, shared with all the instances\n",
    "    \n",
    "    def __init__(self, mass, sex=None):\n",
    "        self.sex = sex\n",
    "        \n",
    "        if self.sex == 'F':\n",
    "            self.bones = mass*0.10\n",
    "            self.muscle = mass*0.37\n",
    "            self.organs = mass*0.25\n",
    "            self.fat = mass*0.28\n",
    "            \n",
    "        elif self.sex == 'M':\n",
    "            self.bones = mass*0.15\n",
    "            self.muscle = mass*0.45\n",
    "            self.organs = mass*0.25\n",
    "            self.fat = mass*0.15\n",
    "            \n",
    "        else:\n",
    "            self.bones = mass*0.15\n",
    "            self.muscle = mass*0.45\n",
    "            self.organs = mass*0.25\n",
    "            self.fat = mass*0.28\n",
    "            \n",
    "    def eat(self, food):\n",
    "        \"\"\"\n",
    "        Every food gram becomes fat :( \n",
    "        \"\"\"\n",
    "        print('human is eating {} kg of food'.format(food))\n",
    "        self.fat += food\n",
    "        print(self.__repr__())\n",
    "        \n",
    "    def go_to_gym(self, days):\n",
    "        \"\"\"\n",
    "        Every day of gym transforms 10g of fat into muscle\n",
    "        \"\"\"\n",
    "        print('human is going {} days to the gym!'.format(days))\n",
    "        m = days * 0.01  # moved mass\n",
    "        self.fat -= m\n",
    "        self.muscle += m\n",
    "        print(self.__repr__())\n",
    "    \n",
    "    def sleep(self):\n",
    "        print('...human is sleeping...zZzZZzZ')\n",
    "        \n",
    "    def __repr__(self):\n",
    "        \"\"\"\n",
    "        Returns a string of printable representation of an object\n",
    "        \"\"\"\n",
    "        bones = '{} kg'.format(self.bones)\n",
    "        muscle = '{} kg'.format(self.muscle)\n",
    "        organs = '{} kg'.format(self.organs)\n",
    "        fat = '{} kg'.format(self.fat)\n",
    "        \n",
    "        return ('Human made of:\\n'\n",
    "                '{} of bone\\n'\n",
    "                '{} of muscle\\n'\n",
    "                '{} of organs\\n'\n",
    "                '{} of fat'.format(bones, muscle, organs, fat))\n",
    "        "
   ]
  },
  {
   "cell_type": "code",
   "execution_count": 2,
   "metadata": {},
   "outputs": [],
   "source": [
    "frank = Human(75, sex = 'M')"
   ]
  },
  {
   "cell_type": "code",
   "execution_count": 3,
   "metadata": {},
   "outputs": [
    {
     "data": {
      "text/plain": [
       "Human made of:\n",
       "11.25 kg of bone\n",
       "33.75 kg of muscle\n",
       "18.75 kg of organs\n",
       "11.25 kg of fat"
      ]
     },
     "execution_count": 3,
     "metadata": {},
     "output_type": "execute_result"
    }
   ],
   "source": [
    "frank"
   ]
  },
  {
   "cell_type": "code",
   "execution_count": 5,
   "metadata": {},
   "outputs": [
    {
     "data": {
      "text/plain": [
       "33.75"
      ]
     },
     "execution_count": 5,
     "metadata": {},
     "output_type": "execute_result"
    }
   ],
   "source": [
    "frank.muscle"
   ]
  },
  {
   "cell_type": "code",
   "execution_count": 6,
   "metadata": {},
   "outputs": [
    {
     "data": {
      "text/plain": [
       "'Human'"
      ]
     },
     "execution_count": 6,
     "metadata": {},
     "output_type": "execute_result"
    }
   ],
   "source": [
    "frank.kind"
   ]
  },
  {
   "cell_type": "code",
   "execution_count": 7,
   "metadata": {},
   "outputs": [
    {
     "name": "stdout",
     "output_type": "stream",
     "text": [
      "human is eating 10 kg of food\n",
      "Human made of:\n",
      "11.25 kg of bone\n",
      "33.75 kg of muscle\n",
      "18.75 kg of organs\n",
      "21.25 kg of fat\n"
     ]
    }
   ],
   "source": [
    "frank.eat(10)"
   ]
  },
  {
   "cell_type": "code",
   "execution_count": 8,
   "metadata": {},
   "outputs": [
    {
     "name": "stdout",
     "output_type": "stream",
     "text": [
      "human is going 10 days to the gym!\n",
      "Human made of:\n",
      "11.25 kg of bone\n",
      "33.85 kg of muscle\n",
      "18.75 kg of organs\n",
      "21.15 kg of fat\n"
     ]
    }
   ],
   "source": [
    "frank.go_to_gym(10)"
   ]
  },
  {
   "cell_type": "code",
   "execution_count": 9,
   "metadata": {},
   "outputs": [
    {
     "name": "stdout",
     "output_type": "stream",
     "text": [
      "...human is sleeping...zZzZZzZ\n"
     ]
    }
   ],
   "source": [
    "frank.sleep()"
   ]
  }
 ],
 "metadata": {
  "kernelspec": {
   "display_name": "Python [default]",
   "language": "python",
   "name": "python3"
  },
  "language_info": {
   "codemirror_mode": {
    "name": "ipython",
    "version": 3
   },
   "file_extension": ".py",
   "mimetype": "text/x-python",
   "name": "python",
   "nbconvert_exporter": "python",
   "pygments_lexer": "ipython3",
   "version": "3.6.5"
  }
 },
 "nbformat": 4,
 "nbformat_minor": 2
}
