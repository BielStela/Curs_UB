{
 "cells": [
  {
   "cell_type": "code",
   "execution_count": 1,
   "metadata": {},
   "outputs": [],
   "source": [
    "import numpy as np\n",
    "import pandas as pd\n",
    "import matplotlib.pyplot as plt"
   ]
  },
  {
   "cell_type": "code",
   "execution_count": 28,
   "metadata": {},
   "outputs": [],
   "source": [
    "data = np.random.rand(100)"
   ]
  },
  {
   "cell_type": "code",
   "execution_count": 36,
   "metadata": {},
   "outputs": [
    {
     "data": {
      "image/png": "[encoded data removed]",
      "text/plain": [
       "<Figure size 432x288 with 1 Axes>"
      ]
     },
     "metadata": {
      "needs_background": "light"
     },
     "output_type": "display_data"
    }
   ],
   "source": [
    "n, bins, _ = plt.hist(data, bins=8)"
   ]
  },
  {
   "cell_type": "code",
   "execution_count": 32,
   "metadata": {},
   "outputs": [
    {
     "data": {
      "text/plain": [
       "array([0.00234474, 0.01230212, 0.02225951, 0.03221689, 0.04217428,\n",
       "       0.05213166, 0.06208904, 0.07204643, 0.08200381, 0.0919612 ,\n",
       "       0.10191858, 0.11187597, 0.12183335, 0.13179073, 0.14174812,\n",
       "       0.1517055 , 0.16166289, 0.17162027, 0.18157766, 0.19153504,\n",
       "       0.20149243, 0.21144981, 0.22140719, 0.23136458, 0.24132196,\n",
       "       0.25127935, 0.26123673, 0.27119412, 0.2811515 , 0.29110888,\n",
       "       0.30106627, 0.31102365, 0.32098104, 0.33093842, 0.34089581,\n",
       "       0.35085319, 0.36081057, 0.37076796, 0.38072534, 0.39068273,\n",
       "       0.40064011, 0.4105975 , 0.42055488, 0.43051227, 0.44046965,\n",
       "       0.45042703, 0.46038442, 0.4703418 , 0.48029919, 0.49025657,\n",
       "       0.50021396, 0.51017134, 0.52012872, 0.53008611, 0.54004349,\n",
       "       0.55000088, 0.55995826, 0.56991565, 0.57987303, 0.58983041,\n",
       "       0.5997878 , 0.60974518, 0.61970257, 0.62965995, 0.63961734,\n",
       "       0.64957472, 0.65953211, 0.66948949, 0.67944687, 0.68940426,\n",
       "       0.69936164, 0.70931903, 0.71927641, 0.7292338 , 0.73919118,\n",
       "       0.74914856, 0.75910595, 0.76906333, 0.77902072, 0.7889781 ,\n",
       "       0.79893549, 0.80889287, 0.81885025, 0.82880764, 0.83876502,\n",
       "       0.84872241, 0.85867979, 0.86863718, 0.87859456, 0.88855195,\n",
       "       0.89850933, 0.90846671, 0.9184241 , 0.92838148, 0.93833887,\n",
       "       0.94829625, 0.95825364, 0.96821102, 0.9781684 , 0.98812579,\n",
       "       0.99808317])"
      ]
     },
     "execution_count": 32,
     "metadata": {},
     "output_type": "execute_result"
    }
   ],
   "source": [
    "bins"
   ]
  },
  {
   "cell_type": "code",
   "execution_count": null,
   "metadata": {},
   "outputs": [],
   "source": []
  }
 ],
 "metadata": {
  "kernelspec": {
   "display_name": "Python 3",
   "language": "python",
   "name": "python3"
  },
  "language_info": {
   "codemirror_mode": {
    "name": "ipython",
    "version": 3
   },
   "file_extension": ".py",
   "mimetype": "text/x-python",
   "name": "python",
   "nbconvert_exporter": "python",
   "pygments_lexer": "ipython3",
   "version": "3.8.3"
  }
 },
 "nbformat": 4,
 "nbformat_minor": 4
}
